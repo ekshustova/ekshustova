{
  "nbformat": 4,
  "nbformat_minor": 0,
  "metadata": {
    "kernelspec": {
      "display_name": "Python 3",
      "language": "python",
      "name": "python3"
    },
    "language_info": {
      "codemirror_mode": {
        "name": "ipython",
        "version": 3
      },
      "file_extension": ".py",
      "mimetype": "text/x-python",
      "name": "python",
      "nbconvert_exporter": "python",
      "pygments_lexer": "ipython3",
      "version": "3.8.5"
    },
    "max_cell_id": 35,
    "colab": {
      "provenance": [],
      "include_colab_link": true
    },
    "accelerator": "GPU",
    "gpuClass": "standard",
    "widgets": {
      "application/vnd.jupyter.widget-state+json": {
        "09292952e7f74ba09f2094780416ac64": {
          "model_module": "@jupyter-widgets/controls",
          "model_name": "HBoxModel",
          "model_module_version": "1.5.0",
          "state": {
            "_dom_classes": [],
            "_model_module": "@jupyter-widgets/controls",
            "_model_module_version": "1.5.0",
            "_model_name": "HBoxModel",
            "_view_count": null,
            "_view_module": "@jupyter-widgets/controls",
            "_view_module_version": "1.5.0",
            "_view_name": "HBoxView",
            "box_style": "",
            "children": [
              "IPY_MODEL_1197aaa3fb5545129e7278727c5b85ce",
              "IPY_MODEL_56eba6dab4744ba3a460ad22e1123822",
              "IPY_MODEL_5228acbb2a6d486ab571163b3ad04d05"
            ],
            "layout": "IPY_MODEL_15b6ca983a7f483492724c9c105af3ae"
          }
        },
        "1197aaa3fb5545129e7278727c5b85ce": {
          "model_module": "@jupyter-widgets/controls",
          "model_name": "HTMLModel",
          "model_module_version": "1.5.0",
          "state": {
            "_dom_classes": [],
            "_model_module": "@jupyter-widgets/controls",
            "_model_module_version": "1.5.0",
            "_model_name": "HTMLModel",
            "_view_count": null,
            "_view_module": "@jupyter-widgets/controls",
            "_view_module_version": "1.5.0",
            "_view_name": "HTMLView",
            "description": "",
            "description_tooltip": null,
            "layout": "IPY_MODEL_36c44fc13a194405a62fba86b6fae37d",
            "placeholder": "​",
            "style": "IPY_MODEL_cc9cf85d94a241719e9ee23c87a4cd99",
            "value": "Sanity Checking DataLoader 0: 100%"
          }
        },
        "56eba6dab4744ba3a460ad22e1123822": {
          "model_module": "@jupyter-widgets/controls",
          "model_name": "FloatProgressModel",
          "model_module_version": "1.5.0",
          "state": {
            "_dom_classes": [],
            "_model_module": "@jupyter-widgets/controls",
            "_model_module_version": "1.5.0",
            "_model_name": "FloatProgressModel",
            "_view_count": null,
            "_view_module": "@jupyter-widgets/controls",
            "_view_module_version": "1.5.0",
            "_view_name": "ProgressView",
            "bar_style": "",
            "description": "",
            "description_tooltip": null,
            "layout": "IPY_MODEL_af46857f58b64eb48e2dd6608eead753",
            "max": 2,
            "min": 0,
            "orientation": "horizontal",
            "style": "IPY_MODEL_e513da87514b44ad94ec5455d9cd39c7",
            "value": 2
          }
        },
        "5228acbb2a6d486ab571163b3ad04d05": {
          "model_module": "@jupyter-widgets/controls",
          "model_name": "HTMLModel",
          "model_module_version": "1.5.0",
          "state": {
            "_dom_classes": [],
            "_model_module": "@jupyter-widgets/controls",
            "_model_module_version": "1.5.0",
            "_model_name": "HTMLModel",
            "_view_count": null,
            "_view_module": "@jupyter-widgets/controls",
            "_view_module_version": "1.5.0",
            "_view_name": "HTMLView",
            "description": "",
            "description_tooltip": null,
            "layout": "IPY_MODEL_56f8208de314402388dcb4f6582625fa",
            "placeholder": "​",
            "style": "IPY_MODEL_849189dc244249a8b52b745832dff9d4",
            "value": " 2/2 [00:02&lt;00:00,  1.30s/it]"
          }
        },
        "15b6ca983a7f483492724c9c105af3ae": {
          "model_module": "@jupyter-widgets/base",
          "model_name": "LayoutModel",
          "model_module_version": "1.2.0",
          "state": {
            "_model_module": "@jupyter-widgets/base",
            "_model_module_version": "1.2.0",
            "_model_name": "LayoutModel",
            "_view_count": null,
            "_view_module": "@jupyter-widgets/base",
            "_view_module_version": "1.2.0",
            "_view_name": "LayoutView",
            "align_content": null,
            "align_items": null,
            "align_self": null,
            "border": null,
            "bottom": null,
            "display": "inline-flex",
            "flex": null,
            "flex_flow": "row wrap",
            "grid_area": null,
            "grid_auto_columns": null,
            "grid_auto_flow": null,
            "grid_auto_rows": null,
            "grid_column": null,
            "grid_gap": null,
            "grid_row": null,
            "grid_template_areas": null,
            "grid_template_columns": null,
            "grid_template_rows": null,
            "height": null,
            "justify_content": null,
            "justify_items": null,
            "left": null,
            "margin": null,
            "max_height": null,
            "max_width": null,
            "min_height": null,
            "min_width": null,
            "object_fit": null,
            "object_position": null,
            "order": null,
            "overflow": null,
            "overflow_x": null,
            "overflow_y": null,
            "padding": null,
            "right": null,
            "top": null,
            "visibility": "hidden",
            "width": "100%"
          }
        },
        "36c44fc13a194405a62fba86b6fae37d": {
          "model_module": "@jupyter-widgets/base",
          "model_name": "LayoutModel",
          "model_module_version": "1.2.0",
          "state": {
            "_model_module": "@jupyter-widgets/base",
            "_model_module_version": "1.2.0",
            "_model_name": "LayoutModel",
            "_view_count": null,
            "_view_module": "@jupyter-widgets/base",
            "_view_module_version": "1.2.0",
            "_view_name": "LayoutView",
            "align_content": null,
            "align_items": null,
            "align_self": null,
            "border": null,
            "bottom": null,
            "display": null,
            "flex": null,
            "flex_flow": null,
            "grid_area": null,
            "grid_auto_columns": null,
            "grid_auto_flow": null,
            "grid_auto_rows": null,
            "grid_column": null,
            "grid_gap": null,
            "grid_row": null,
            "grid_template_areas": null,
            "grid_template_columns": null,
            "grid_template_rows": null,
            "height": null,
            "justify_content": null,
            "justify_items": null,
            "left": null,
            "margin": null,
            "max_height": null,
            "max_width": null,
            "min_height": null,
            "min_width": null,
            "object_fit": null,
            "object_position": null,
            "order": null,
            "overflow": null,
            "overflow_x": null,
            "overflow_y": null,
            "padding": null,
            "right": null,
            "top": null,
            "visibility": null,
            "width": null
          }
        },
        "cc9cf85d94a241719e9ee23c87a4cd99": {
          "model_module": "@jupyter-widgets/controls",
          "model_name": "DescriptionStyleModel",
          "model_module_version": "1.5.0",
          "state": {
            "_model_module": "@jupyter-widgets/controls",
            "_model_module_version": "1.5.0",
            "_model_name": "DescriptionStyleModel",
            "_view_count": null,
            "_view_module": "@jupyter-widgets/base",
            "_view_module_version": "1.2.0",
            "_view_name": "StyleView",
            "description_width": ""
          }
        },
        "af46857f58b64eb48e2dd6608eead753": {
          "model_module": "@jupyter-widgets/base",
          "model_name": "LayoutModel",
          "model_module_version": "1.2.0",
          "state": {
            "_model_module": "@jupyter-widgets/base",
            "_model_module_version": "1.2.0",
            "_model_name": "LayoutModel",
            "_view_count": null,
            "_view_module": "@jupyter-widgets/base",
            "_view_module_version": "1.2.0",
            "_view_name": "LayoutView",
            "align_content": null,
            "align_items": null,
            "align_self": null,
            "border": null,
            "bottom": null,
            "display": null,
            "flex": "2",
            "flex_flow": null,
            "grid_area": null,
            "grid_auto_columns": null,
            "grid_auto_flow": null,
            "grid_auto_rows": null,
            "grid_column": null,
            "grid_gap": null,
            "grid_row": null,
            "grid_template_areas": null,
            "grid_template_columns": null,
            "grid_template_rows": null,
            "height": null,
            "justify_content": null,
            "justify_items": null,
            "left": null,
            "margin": null,
            "max_height": null,
            "max_width": null,
            "min_height": null,
            "min_width": null,
            "object_fit": null,
            "object_position": null,
            "order": null,
            "overflow": null,
            "overflow_x": null,
            "overflow_y": null,
            "padding": null,
            "right": null,
            "top": null,
            "visibility": null,
            "width": null
          }
        },
        "e513da87514b44ad94ec5455d9cd39c7": {
          "model_module": "@jupyter-widgets/controls",
          "model_name": "ProgressStyleModel",
          "model_module_version": "1.5.0",
          "state": {
            "_model_module": "@jupyter-widgets/controls",
            "_model_module_version": "1.5.0",
            "_model_name": "ProgressStyleModel",
            "_view_count": null,
            "_view_module": "@jupyter-widgets/base",
            "_view_module_version": "1.2.0",
            "_view_name": "StyleView",
            "bar_color": null,
            "description_width": ""
          }
        },
        "56f8208de314402388dcb4f6582625fa": {
          "model_module": "@jupyter-widgets/base",
          "model_name": "LayoutModel",
          "model_module_version": "1.2.0",
          "state": {
            "_model_module": "@jupyter-widgets/base",
            "_model_module_version": "1.2.0",
            "_model_name": "LayoutModel",
            "_view_count": null,
            "_view_module": "@jupyter-widgets/base",
            "_view_module_version": "1.2.0",
            "_view_name": "LayoutView",
            "align_content": null,
            "align_items": null,
            "align_self": null,
            "border": null,
            "bottom": null,
            "display": null,
            "flex": null,
            "flex_flow": null,
            "grid_area": null,
            "grid_auto_columns": null,
            "grid_auto_flow": null,
            "grid_auto_rows": null,
            "grid_column": null,
            "grid_gap": null,
            "grid_row": null,
            "grid_template_areas": null,
            "grid_template_columns": null,
            "grid_template_rows": null,
            "height": null,
            "justify_content": null,
            "justify_items": null,
            "left": null,
            "margin": null,
            "max_height": null,
            "max_width": null,
            "min_height": null,
            "min_width": null,
            "object_fit": null,
            "object_position": null,
            "order": null,
            "overflow": null,
            "overflow_x": null,
            "overflow_y": null,
            "padding": null,
            "right": null,
            "top": null,
            "visibility": null,
            "width": null
          }
        },
        "849189dc244249a8b52b745832dff9d4": {
          "model_module": "@jupyter-widgets/controls",
          "model_name": "DescriptionStyleModel",
          "model_module_version": "1.5.0",
          "state": {
            "_model_module": "@jupyter-widgets/controls",
            "_model_module_version": "1.5.0",
            "_model_name": "DescriptionStyleModel",
            "_view_count": null,
            "_view_module": "@jupyter-widgets/base",
            "_view_module_version": "1.2.0",
            "_view_name": "StyleView",
            "description_width": ""
          }
        },
        "7e022f3c5d494278b68170887509eb0e": {
          "model_module": "@jupyter-widgets/controls",
          "model_name": "HBoxModel",
          "model_module_version": "1.5.0",
          "state": {
            "_dom_classes": [],
            "_model_module": "@jupyter-widgets/controls",
            "_model_module_version": "1.5.0",
            "_model_name": "HBoxModel",
            "_view_count": null,
            "_view_module": "@jupyter-widgets/controls",
            "_view_module_version": "1.5.0",
            "_view_name": "HBoxView",
            "box_style": "",
            "children": [
              "IPY_MODEL_25e4cdf53249439cadcb54a938733bd0",
              "IPY_MODEL_527e5165464a438a9872d7d6fb84610b",
              "IPY_MODEL_1b4c9d4dc2fb4fb4bf437f8d9246d9b2"
            ],
            "layout": "IPY_MODEL_44b0d14dd9d64b7e98c4c33d3cbf781f"
          }
        },
        "25e4cdf53249439cadcb54a938733bd0": {
          "model_module": "@jupyter-widgets/controls",
          "model_name": "HTMLModel",
          "model_module_version": "1.5.0",
          "state": {
            "_dom_classes": [],
            "_model_module": "@jupyter-widgets/controls",
            "_model_module_version": "1.5.0",
            "_model_name": "HTMLModel",
            "_view_count": null,
            "_view_module": "@jupyter-widgets/controls",
            "_view_module_version": "1.5.0",
            "_view_name": "HTMLView",
            "description": "",
            "description_tooltip": null,
            "layout": "IPY_MODEL_cc994e3fd7124f70ae3dadd94c8b9552",
            "placeholder": "​",
            "style": "IPY_MODEL_2838cd0653c14b99afdda1ee9bcb9995",
            "value": "Epoch 2:   0%"
          }
        },
        "527e5165464a438a9872d7d6fb84610b": {
          "model_module": "@jupyter-widgets/controls",
          "model_name": "FloatProgressModel",
          "model_module_version": "1.5.0",
          "state": {
            "_dom_classes": [],
            "_model_module": "@jupyter-widgets/controls",
            "_model_module_version": "1.5.0",
            "_model_name": "FloatProgressModel",
            "_view_count": null,
            "_view_module": "@jupyter-widgets/controls",
            "_view_module_version": "1.5.0",
            "_view_name": "ProgressView",
            "bar_style": "",
            "description": "",
            "description_tooltip": null,
            "layout": "IPY_MODEL_79d6b80c915d47a780514b3bdaadf44d",
            "max": 1720,
            "min": 0,
            "orientation": "horizontal",
            "style": "IPY_MODEL_f6f2d68f12f947579bbac609528dcd8e",
            "value": 0
          }
        },
        "1b4c9d4dc2fb4fb4bf437f8d9246d9b2": {
          "model_module": "@jupyter-widgets/controls",
          "model_name": "HTMLModel",
          "model_module_version": "1.5.0",
          "state": {
            "_dom_classes": [],
            "_model_module": "@jupyter-widgets/controls",
            "_model_module_version": "1.5.0",
            "_model_name": "HTMLModel",
            "_view_count": null,
            "_view_module": "@jupyter-widgets/controls",
            "_view_module_version": "1.5.0",
            "_view_name": "HTMLView",
            "description": "",
            "description_tooltip": null,
            "layout": "IPY_MODEL_49eddc061d164bc8aa9a7b2f16f8164c",
            "placeholder": "​",
            "style": "IPY_MODEL_9eabf5674410407d92b060c7c9a098e9",
            "value": " 0/1720 [00:00&lt;?, ?it/s, loss=0.965, v_num=gbmo, train_loss=0.830, val_loss=0.651]"
          }
        },
        "44b0d14dd9d64b7e98c4c33d3cbf781f": {
          "model_module": "@jupyter-widgets/base",
          "model_name": "LayoutModel",
          "model_module_version": "1.2.0",
          "state": {
            "_model_module": "@jupyter-widgets/base",
            "_model_module_version": "1.2.0",
            "_model_name": "LayoutModel",
            "_view_count": null,
            "_view_module": "@jupyter-widgets/base",
            "_view_module_version": "1.2.0",
            "_view_name": "LayoutView",
            "align_content": null,
            "align_items": null,
            "align_self": null,
            "border": null,
            "bottom": null,
            "display": "inline-flex",
            "flex": null,
            "flex_flow": "row wrap",
            "grid_area": null,
            "grid_auto_columns": null,
            "grid_auto_flow": null,
            "grid_auto_rows": null,
            "grid_column": null,
            "grid_gap": null,
            "grid_row": null,
            "grid_template_areas": null,
            "grid_template_columns": null,
            "grid_template_rows": null,
            "height": null,
            "justify_content": null,
            "justify_items": null,
            "left": null,
            "margin": null,
            "max_height": null,
            "max_width": null,
            "min_height": null,
            "min_width": null,
            "object_fit": null,
            "object_position": null,
            "order": null,
            "overflow": null,
            "overflow_x": null,
            "overflow_y": null,
            "padding": null,
            "right": null,
            "top": null,
            "visibility": null,
            "width": "100%"
          }
        },
        "cc994e3fd7124f70ae3dadd94c8b9552": {
          "model_module": "@jupyter-widgets/base",
          "model_name": "LayoutModel",
          "model_module_version": "1.2.0",
          "state": {
            "_model_module": "@jupyter-widgets/base",
            "_model_module_version": "1.2.0",
            "_model_name": "LayoutModel",
            "_view_count": null,
            "_view_module": "@jupyter-widgets/base",
            "_view_module_version": "1.2.0",
            "_view_name": "LayoutView",
            "align_content": null,
            "align_items": null,
            "align_self": null,
            "border": null,
            "bottom": null,
            "display": null,
            "flex": null,
            "flex_flow": null,
            "grid_area": null,
            "grid_auto_columns": null,
            "grid_auto_flow": null,
            "grid_auto_rows": null,
            "grid_column": null,
            "grid_gap": null,
            "grid_row": null,
            "grid_template_areas": null,
            "grid_template_columns": null,
            "grid_template_rows": null,
            "height": null,
            "justify_content": null,
            "justify_items": null,
            "left": null,
            "margin": null,
            "max_height": null,
            "max_width": null,
            "min_height": null,
            "min_width": null,
            "object_fit": null,
            "object_position": null,
            "order": null,
            "overflow": null,
            "overflow_x": null,
            "overflow_y": null,
            "padding": null,
            "right": null,
            "top": null,
            "visibility": null,
            "width": null
          }
        },
        "2838cd0653c14b99afdda1ee9bcb9995": {
          "model_module": "@jupyter-widgets/controls",
          "model_name": "DescriptionStyleModel",
          "model_module_version": "1.5.0",
          "state": {
            "_model_module": "@jupyter-widgets/controls",
            "_model_module_version": "1.5.0",
            "_model_name": "DescriptionStyleModel",
            "_view_count": null,
            "_view_module": "@jupyter-widgets/base",
            "_view_module_version": "1.2.0",
            "_view_name": "StyleView",
            "description_width": ""
          }
        },
        "79d6b80c915d47a780514b3bdaadf44d": {
          "model_module": "@jupyter-widgets/base",
          "model_name": "LayoutModel",
          "model_module_version": "1.2.0",
          "state": {
            "_model_module": "@jupyter-widgets/base",
            "_model_module_version": "1.2.0",
            "_model_name": "LayoutModel",
            "_view_count": null,
            "_view_module": "@jupyter-widgets/base",
            "_view_module_version": "1.2.0",
            "_view_name": "LayoutView",
            "align_content": null,
            "align_items": null,
            "align_self": null,
            "border": null,
            "bottom": null,
            "display": null,
            "flex": "2",
            "flex_flow": null,
            "grid_area": null,
            "grid_auto_columns": null,
            "grid_auto_flow": null,
            "grid_auto_rows": null,
            "grid_column": null,
            "grid_gap": null,
            "grid_row": null,
            "grid_template_areas": null,
            "grid_template_columns": null,
            "grid_template_rows": null,
            "height": null,
            "justify_content": null,
            "justify_items": null,
            "left": null,
            "margin": null,
            "max_height": null,
            "max_width": null,
            "min_height": null,
            "min_width": null,
            "object_fit": null,
            "object_position": null,
            "order": null,
            "overflow": null,
            "overflow_x": null,
            "overflow_y": null,
            "padding": null,
            "right": null,
            "top": null,
            "visibility": null,
            "width": null
          }
        },
        "f6f2d68f12f947579bbac609528dcd8e": {
          "model_module": "@jupyter-widgets/controls",
          "model_name": "ProgressStyleModel",
          "model_module_version": "1.5.0",
          "state": {
            "_model_module": "@jupyter-widgets/controls",
            "_model_module_version": "1.5.0",
            "_model_name": "ProgressStyleModel",
            "_view_count": null,
            "_view_module": "@jupyter-widgets/base",
            "_view_module_version": "1.2.0",
            "_view_name": "StyleView",
            "bar_color": null,
            "description_width": ""
          }
        },
        "49eddc061d164bc8aa9a7b2f16f8164c": {
          "model_module": "@jupyter-widgets/base",
          "model_name": "LayoutModel",
          "model_module_version": "1.2.0",
          "state": {
            "_model_module": "@jupyter-widgets/base",
            "_model_module_version": "1.2.0",
            "_model_name": "LayoutModel",
            "_view_count": null,
            "_view_module": "@jupyter-widgets/base",
            "_view_module_version": "1.2.0",
            "_view_name": "LayoutView",
            "align_content": null,
            "align_items": null,
            "align_self": null,
            "border": null,
            "bottom": null,
            "display": null,
            "flex": null,
            "flex_flow": null,
            "grid_area": null,
            "grid_auto_columns": null,
            "grid_auto_flow": null,
            "grid_auto_rows": null,
            "grid_column": null,
            "grid_gap": null,
            "grid_row": null,
            "grid_template_areas": null,
            "grid_template_columns": null,
            "grid_template_rows": null,
            "height": null,
            "justify_content": null,
            "justify_items": null,
            "left": null,
            "margin": null,
            "max_height": null,
            "max_width": null,
            "min_height": null,
            "min_width": null,
            "object_fit": null,
            "object_position": null,
            "order": null,
            "overflow": null,
            "overflow_x": null,
            "overflow_y": null,
            "padding": null,
            "right": null,
            "top": null,
            "visibility": null,
            "width": null
          }
        },
        "9eabf5674410407d92b060c7c9a098e9": {
          "model_module": "@jupyter-widgets/controls",
          "model_name": "DescriptionStyleModel",
          "model_module_version": "1.5.0",
          "state": {
            "_model_module": "@jupyter-widgets/controls",
            "_model_module_version": "1.5.0",
            "_model_name": "DescriptionStyleModel",
            "_view_count": null,
            "_view_module": "@jupyter-widgets/base",
            "_view_module_version": "1.2.0",
            "_view_name": "StyleView",
            "description_width": ""
          }
        },
        "11a1ca4a0c734fdca53792524f441938": {
          "model_module": "@jupyter-widgets/controls",
          "model_name": "HBoxModel",
          "model_module_version": "1.5.0",
          "state": {
            "_dom_classes": [],
            "_model_module": "@jupyter-widgets/controls",
            "_model_module_version": "1.5.0",
            "_model_name": "HBoxModel",
            "_view_count": null,
            "_view_module": "@jupyter-widgets/controls",
            "_view_module_version": "1.5.0",
            "_view_name": "HBoxView",
            "box_style": "",
            "children": [
              "IPY_MODEL_2911dc0a5b184253bf4dc102d43d07ad",
              "IPY_MODEL_57cf1a88463b4a58b8d02df14f359aba",
              "IPY_MODEL_c096a45b32e5424bb0d7fe3ee82b3a9b"
            ],
            "layout": "IPY_MODEL_d28a4d7bbddd47f4a3f076c5aa4fef51"
          }
        },
        "2911dc0a5b184253bf4dc102d43d07ad": {
          "model_module": "@jupyter-widgets/controls",
          "model_name": "HTMLModel",
          "model_module_version": "1.5.0",
          "state": {
            "_dom_classes": [],
            "_model_module": "@jupyter-widgets/controls",
            "_model_module_version": "1.5.0",
            "_model_name": "HTMLModel",
            "_view_count": null,
            "_view_module": "@jupyter-widgets/controls",
            "_view_module_version": "1.5.0",
            "_view_name": "HTMLView",
            "description": "",
            "description_tooltip": null,
            "layout": "IPY_MODEL_d85ed195434f4d41b73fa1f9a6356390",
            "placeholder": "​",
            "style": "IPY_MODEL_9504051a71994c9e8cef1d7fa19dbba1",
            "value": "Validation DataLoader 0: 100%"
          }
        },
        "57cf1a88463b4a58b8d02df14f359aba": {
          "model_module": "@jupyter-widgets/controls",
          "model_name": "FloatProgressModel",
          "model_module_version": "1.5.0",
          "state": {
            "_dom_classes": [],
            "_model_module": "@jupyter-widgets/controls",
            "_model_module_version": "1.5.0",
            "_model_name": "FloatProgressModel",
            "_view_count": null,
            "_view_module": "@jupyter-widgets/controls",
            "_view_module_version": "1.5.0",
            "_view_name": "ProgressView",
            "bar_style": "",
            "description": "",
            "description_tooltip": null,
            "layout": "IPY_MODEL_f0f298b421af456fa79a0c688e8e9845",
            "max": 157,
            "min": 0,
            "orientation": "horizontal",
            "style": "IPY_MODEL_aa648876fbfd4448b590c85a008f460b",
            "value": 157
          }
        },
        "c096a45b32e5424bb0d7fe3ee82b3a9b": {
          "model_module": "@jupyter-widgets/controls",
          "model_name": "HTMLModel",
          "model_module_version": "1.5.0",
          "state": {
            "_dom_classes": [],
            "_model_module": "@jupyter-widgets/controls",
            "_model_module_version": "1.5.0",
            "_model_name": "HTMLModel",
            "_view_count": null,
            "_view_module": "@jupyter-widgets/controls",
            "_view_module_version": "1.5.0",
            "_view_name": "HTMLView",
            "description": "",
            "description_tooltip": null,
            "layout": "IPY_MODEL_8440cefdf903468d8d7e3284ff43044c",
            "placeholder": "​",
            "style": "IPY_MODEL_9d69e0e1efd7475cb3bb284eac4a524c",
            "value": " 157/157 [04:45&lt;00:00,  1.82s/it]"
          }
        },
        "d28a4d7bbddd47f4a3f076c5aa4fef51": {
          "model_module": "@jupyter-widgets/base",
          "model_name": "LayoutModel",
          "model_module_version": "1.2.0",
          "state": {
            "_model_module": "@jupyter-widgets/base",
            "_model_module_version": "1.2.0",
            "_model_name": "LayoutModel",
            "_view_count": null,
            "_view_module": "@jupyter-widgets/base",
            "_view_module_version": "1.2.0",
            "_view_name": "LayoutView",
            "align_content": null,
            "align_items": null,
            "align_self": null,
            "border": null,
            "bottom": null,
            "display": "inline-flex",
            "flex": null,
            "flex_flow": "row wrap",
            "grid_area": null,
            "grid_auto_columns": null,
            "grid_auto_flow": null,
            "grid_auto_rows": null,
            "grid_column": null,
            "grid_gap": null,
            "grid_row": null,
            "grid_template_areas": null,
            "grid_template_columns": null,
            "grid_template_rows": null,
            "height": null,
            "justify_content": null,
            "justify_items": null,
            "left": null,
            "margin": null,
            "max_height": null,
            "max_width": null,
            "min_height": null,
            "min_width": null,
            "object_fit": null,
            "object_position": null,
            "order": null,
            "overflow": null,
            "overflow_x": null,
            "overflow_y": null,
            "padding": null,
            "right": null,
            "top": null,
            "visibility": "hidden",
            "width": "100%"
          }
        },
        "d85ed195434f4d41b73fa1f9a6356390": {
          "model_module": "@jupyter-widgets/base",
          "model_name": "LayoutModel",
          "model_module_version": "1.2.0",
          "state": {
            "_model_module": "@jupyter-widgets/base",
            "_model_module_version": "1.2.0",
            "_model_name": "LayoutModel",
            "_view_count": null,
            "_view_module": "@jupyter-widgets/base",
            "_view_module_version": "1.2.0",
            "_view_name": "LayoutView",
            "align_content": null,
            "align_items": null,
            "align_self": null,
            "border": null,
            "bottom": null,
            "display": null,
            "flex": null,
            "flex_flow": null,
            "grid_area": null,
            "grid_auto_columns": null,
            "grid_auto_flow": null,
            "grid_auto_rows": null,
            "grid_column": null,
            "grid_gap": null,
            "grid_row": null,
            "grid_template_areas": null,
            "grid_template_columns": null,
            "grid_template_rows": null,
            "height": null,
            "justify_content": null,
            "justify_items": null,
            "left": null,
            "margin": null,
            "max_height": null,
            "max_width": null,
            "min_height": null,
            "min_width": null,
            "object_fit": null,
            "object_position": null,
            "order": null,
            "overflow": null,
            "overflow_x": null,
            "overflow_y": null,
            "padding": null,
            "right": null,
            "top": null,
            "visibility": null,
            "width": null
          }
        },
        "9504051a71994c9e8cef1d7fa19dbba1": {
          "model_module": "@jupyter-widgets/controls",
          "model_name": "DescriptionStyleModel",
          "model_module_version": "1.5.0",
          "state": {
            "_model_module": "@jupyter-widgets/controls",
            "_model_module_version": "1.5.0",
            "_model_name": "DescriptionStyleModel",
            "_view_count": null,
            "_view_module": "@jupyter-widgets/base",
            "_view_module_version": "1.2.0",
            "_view_name": "StyleView",
            "description_width": ""
          }
        },
        "f0f298b421af456fa79a0c688e8e9845": {
          "model_module": "@jupyter-widgets/base",
          "model_name": "LayoutModel",
          "model_module_version": "1.2.0",
          "state": {
            "_model_module": "@jupyter-widgets/base",
            "_model_module_version": "1.2.0",
            "_model_name": "LayoutModel",
            "_view_count": null,
            "_view_module": "@jupyter-widgets/base",
            "_view_module_version": "1.2.0",
            "_view_name": "LayoutView",
            "align_content": null,
            "align_items": null,
            "align_self": null,
            "border": null,
            "bottom": null,
            "display": null,
            "flex": "2",
            "flex_flow": null,
            "grid_area": null,
            "grid_auto_columns": null,
            "grid_auto_flow": null,
            "grid_auto_rows": null,
            "grid_column": null,
            "grid_gap": null,
            "grid_row": null,
            "grid_template_areas": null,
            "grid_template_columns": null,
            "grid_template_rows": null,
            "height": null,
            "justify_content": null,
            "justify_items": null,
            "left": null,
            "margin": null,
            "max_height": null,
            "max_width": null,
            "min_height": null,
            "min_width": null,
            "object_fit": null,
            "object_position": null,
            "order": null,
            "overflow": null,
            "overflow_x": null,
            "overflow_y": null,
            "padding": null,
            "right": null,
            "top": null,
            "visibility": null,
            "width": null
          }
        },
        "aa648876fbfd4448b590c85a008f460b": {
          "model_module": "@jupyter-widgets/controls",
          "model_name": "ProgressStyleModel",
          "model_module_version": "1.5.0",
          "state": {
            "_model_module": "@jupyter-widgets/controls",
            "_model_module_version": "1.5.0",
            "_model_name": "ProgressStyleModel",
            "_view_count": null,
            "_view_module": "@jupyter-widgets/base",
            "_view_module_version": "1.2.0",
            "_view_name": "StyleView",
            "bar_color": null,
            "description_width": ""
          }
        },
        "8440cefdf903468d8d7e3284ff43044c": {
          "model_module": "@jupyter-widgets/base",
          "model_name": "LayoutModel",
          "model_module_version": "1.2.0",
          "state": {
            "_model_module": "@jupyter-widgets/base",
            "_model_module_version": "1.2.0",
            "_model_name": "LayoutModel",
            "_view_count": null,
            "_view_module": "@jupyter-widgets/base",
            "_view_module_version": "1.2.0",
            "_view_name": "LayoutView",
            "align_content": null,
            "align_items": null,
            "align_self": null,
            "border": null,
            "bottom": null,
            "display": null,
            "flex": null,
            "flex_flow": null,
            "grid_area": null,
            "grid_auto_columns": null,
            "grid_auto_flow": null,
            "grid_auto_rows": null,
            "grid_column": null,
            "grid_gap": null,
            "grid_row": null,
            "grid_template_areas": null,
            "grid_template_columns": null,
            "grid_template_rows": null,
            "height": null,
            "justify_content": null,
            "justify_items": null,
            "left": null,
            "margin": null,
            "max_height": null,
            "max_width": null,
            "min_height": null,
            "min_width": null,
            "object_fit": null,
            "object_position": null,
            "order": null,
            "overflow": null,
            "overflow_x": null,
            "overflow_y": null,
            "padding": null,
            "right": null,
            "top": null,
            "visibility": null,
            "width": null
          }
        },
        "9d69e0e1efd7475cb3bb284eac4a524c": {
          "model_module": "@jupyter-widgets/controls",
          "model_name": "DescriptionStyleModel",
          "model_module_version": "1.5.0",
          "state": {
            "_model_module": "@jupyter-widgets/controls",
            "_model_module_version": "1.5.0",
            "_model_name": "DescriptionStyleModel",
            "_view_count": null,
            "_view_module": "@jupyter-widgets/base",
            "_view_module_version": "1.2.0",
            "_view_name": "StyleView",
            "description_width": ""
          }
        },
        "0c133d43f8d44634ae48e828e03b49ab": {
          "model_module": "@jupyter-widgets/controls",
          "model_name": "HBoxModel",
          "model_module_version": "1.5.0",
          "state": {
            "_dom_classes": [],
            "_model_module": "@jupyter-widgets/controls",
            "_model_module_version": "1.5.0",
            "_model_name": "HBoxModel",
            "_view_count": null,
            "_view_module": "@jupyter-widgets/controls",
            "_view_module_version": "1.5.0",
            "_view_name": "HBoxView",
            "box_style": "",
            "children": [
              "IPY_MODEL_8e1d8c4f09624c019f6e0d5bb7a53469",
              "IPY_MODEL_bd2a113acbac4948ae91d40ea33284e1",
              "IPY_MODEL_18d4233fa1974e829e190ead800397ce"
            ],
            "layout": "IPY_MODEL_5ddde26687074925a2743b661f1aedcc"
          }
        },
        "8e1d8c4f09624c019f6e0d5bb7a53469": {
          "model_module": "@jupyter-widgets/controls",
          "model_name": "HTMLModel",
          "model_module_version": "1.5.0",
          "state": {
            "_dom_classes": [],
            "_model_module": "@jupyter-widgets/controls",
            "_model_module_version": "1.5.0",
            "_model_name": "HTMLModel",
            "_view_count": null,
            "_view_module": "@jupyter-widgets/controls",
            "_view_module_version": "1.5.0",
            "_view_name": "HTMLView",
            "description": "",
            "description_tooltip": null,
            "layout": "IPY_MODEL_4f6e7ed2bf7948c59baecf82838aac33",
            "placeholder": "​",
            "style": "IPY_MODEL_cefbf483300c4c00b0be84acc47fe6c6",
            "value": "Validation DataLoader 0: 100%"
          }
        },
        "bd2a113acbac4948ae91d40ea33284e1": {
          "model_module": "@jupyter-widgets/controls",
          "model_name": "FloatProgressModel",
          "model_module_version": "1.5.0",
          "state": {
            "_dom_classes": [],
            "_model_module": "@jupyter-widgets/controls",
            "_model_module_version": "1.5.0",
            "_model_name": "FloatProgressModel",
            "_view_count": null,
            "_view_module": "@jupyter-widgets/controls",
            "_view_module_version": "1.5.0",
            "_view_name": "ProgressView",
            "bar_style": "",
            "description": "",
            "description_tooltip": null,
            "layout": "IPY_MODEL_653a25ee0bf1420886819a5c392e71e4",
            "max": 157,
            "min": 0,
            "orientation": "horizontal",
            "style": "IPY_MODEL_7129e93aa833475ea9397c625c134d16",
            "value": 157
          }
        },
        "18d4233fa1974e829e190ead800397ce": {
          "model_module": "@jupyter-widgets/controls",
          "model_name": "HTMLModel",
          "model_module_version": "1.5.0",
          "state": {
            "_dom_classes": [],
            "_model_module": "@jupyter-widgets/controls",
            "_model_module_version": "1.5.0",
            "_model_name": "HTMLModel",
            "_view_count": null,
            "_view_module": "@jupyter-widgets/controls",
            "_view_module_version": "1.5.0",
            "_view_name": "HTMLView",
            "description": "",
            "description_tooltip": null,
            "layout": "IPY_MODEL_22ffee03d4eb4a6c88d45d5d2005e3af",
            "placeholder": "​",
            "style": "IPY_MODEL_24ee665661b54cea8b14ca6bb850bc7a",
            "value": " 157/157 [05:58&lt;00:00,  2.29s/it]"
          }
        },
        "5ddde26687074925a2743b661f1aedcc": {
          "model_module": "@jupyter-widgets/base",
          "model_name": "LayoutModel",
          "model_module_version": "1.2.0",
          "state": {
            "_model_module": "@jupyter-widgets/base",
            "_model_module_version": "1.2.0",
            "_model_name": "LayoutModel",
            "_view_count": null,
            "_view_module": "@jupyter-widgets/base",
            "_view_module_version": "1.2.0",
            "_view_name": "LayoutView",
            "align_content": null,
            "align_items": null,
            "align_self": null,
            "border": null,
            "bottom": null,
            "display": "inline-flex",
            "flex": null,
            "flex_flow": "row wrap",
            "grid_area": null,
            "grid_auto_columns": null,
            "grid_auto_flow": null,
            "grid_auto_rows": null,
            "grid_column": null,
            "grid_gap": null,
            "grid_row": null,
            "grid_template_areas": null,
            "grid_template_columns": null,
            "grid_template_rows": null,
            "height": null,
            "justify_content": null,
            "justify_items": null,
            "left": null,
            "margin": null,
            "max_height": null,
            "max_width": null,
            "min_height": null,
            "min_width": null,
            "object_fit": null,
            "object_position": null,
            "order": null,
            "overflow": null,
            "overflow_x": null,
            "overflow_y": null,
            "padding": null,
            "right": null,
            "top": null,
            "visibility": "hidden",
            "width": "100%"
          }
        },
        "4f6e7ed2bf7948c59baecf82838aac33": {
          "model_module": "@jupyter-widgets/base",
          "model_name": "LayoutModel",
          "model_module_version": "1.2.0",
          "state": {
            "_model_module": "@jupyter-widgets/base",
            "_model_module_version": "1.2.0",
            "_model_name": "LayoutModel",
            "_view_count": null,
            "_view_module": "@jupyter-widgets/base",
            "_view_module_version": "1.2.0",
            "_view_name": "LayoutView",
            "align_content": null,
            "align_items": null,
            "align_self": null,
            "border": null,
            "bottom": null,
            "display": null,
            "flex": null,
            "flex_flow": null,
            "grid_area": null,
            "grid_auto_columns": null,
            "grid_auto_flow": null,
            "grid_auto_rows": null,
            "grid_column": null,
            "grid_gap": null,
            "grid_row": null,
            "grid_template_areas": null,
            "grid_template_columns": null,
            "grid_template_rows": null,
            "height": null,
            "justify_content": null,
            "justify_items": null,
            "left": null,
            "margin": null,
            "max_height": null,
            "max_width": null,
            "min_height": null,
            "min_width": null,
            "object_fit": null,
            "object_position": null,
            "order": null,
            "overflow": null,
            "overflow_x": null,
            "overflow_y": null,
            "padding": null,
            "right": null,
            "top": null,
            "visibility": null,
            "width": null
          }
        },
        "cefbf483300c4c00b0be84acc47fe6c6": {
          "model_module": "@jupyter-widgets/controls",
          "model_name": "DescriptionStyleModel",
          "model_module_version": "1.5.0",
          "state": {
            "_model_module": "@jupyter-widgets/controls",
            "_model_module_version": "1.5.0",
            "_model_name": "DescriptionStyleModel",
            "_view_count": null,
            "_view_module": "@jupyter-widgets/base",
            "_view_module_version": "1.2.0",
            "_view_name": "StyleView",
            "description_width": ""
          }
        },
        "653a25ee0bf1420886819a5c392e71e4": {
          "model_module": "@jupyter-widgets/base",
          "model_name": "LayoutModel",
          "model_module_version": "1.2.0",
          "state": {
            "_model_module": "@jupyter-widgets/base",
            "_model_module_version": "1.2.0",
            "_model_name": "LayoutModel",
            "_view_count": null,
            "_view_module": "@jupyter-widgets/base",
            "_view_module_version": "1.2.0",
            "_view_name": "LayoutView",
            "align_content": null,
            "align_items": null,
            "align_self": null,
            "border": null,
            "bottom": null,
            "display": null,
            "flex": "2",
            "flex_flow": null,
            "grid_area": null,
            "grid_auto_columns": null,
            "grid_auto_flow": null,
            "grid_auto_rows": null,
            "grid_column": null,
            "grid_gap": null,
            "grid_row": null,
            "grid_template_areas": null,
            "grid_template_columns": null,
            "grid_template_rows": null,
            "height": null,
            "justify_content": null,
            "justify_items": null,
            "left": null,
            "margin": null,
            "max_height": null,
            "max_width": null,
            "min_height": null,
            "min_width": null,
            "object_fit": null,
            "object_position": null,
            "order": null,
            "overflow": null,
            "overflow_x": null,
            "overflow_y": null,
            "padding": null,
            "right": null,
            "top": null,
            "visibility": null,
            "width": null
          }
        },
        "7129e93aa833475ea9397c625c134d16": {
          "model_module": "@jupyter-widgets/controls",
          "model_name": "ProgressStyleModel",
          "model_module_version": "1.5.0",
          "state": {
            "_model_module": "@jupyter-widgets/controls",
            "_model_module_version": "1.5.0",
            "_model_name": "ProgressStyleModel",
            "_view_count": null,
            "_view_module": "@jupyter-widgets/base",
            "_view_module_version": "1.2.0",
            "_view_name": "StyleView",
            "bar_color": null,
            "description_width": ""
          }
        },
        "22ffee03d4eb4a6c88d45d5d2005e3af": {
          "model_module": "@jupyter-widgets/base",
          "model_name": "LayoutModel",
          "model_module_version": "1.2.0",
          "state": {
            "_model_module": "@jupyter-widgets/base",
            "_model_module_version": "1.2.0",
            "_model_name": "LayoutModel",
            "_view_count": null,
            "_view_module": "@jupyter-widgets/base",
            "_view_module_version": "1.2.0",
            "_view_name": "LayoutView",
            "align_content": null,
            "align_items": null,
            "align_self": null,
            "border": null,
            "bottom": null,
            "display": null,
            "flex": null,
            "flex_flow": null,
            "grid_area": null,
            "grid_auto_columns": null,
            "grid_auto_flow": null,
            "grid_auto_rows": null,
            "grid_column": null,
            "grid_gap": null,
            "grid_row": null,
            "grid_template_areas": null,
            "grid_template_columns": null,
            "grid_template_rows": null,
            "height": null,
            "justify_content": null,
            "justify_items": null,
            "left": null,
            "margin": null,
            "max_height": null,
            "max_width": null,
            "min_height": null,
            "min_width": null,
            "object_fit": null,
            "object_position": null,
            "order": null,
            "overflow": null,
            "overflow_x": null,
            "overflow_y": null,
            "padding": null,
            "right": null,
            "top": null,
            "visibility": null,
            "width": null
          }
        },
        "24ee665661b54cea8b14ca6bb850bc7a": {
          "model_module": "@jupyter-widgets/controls",
          "model_name": "DescriptionStyleModel",
          "model_module_version": "1.5.0",
          "state": {
            "_model_module": "@jupyter-widgets/controls",
            "_model_module_version": "1.5.0",
            "_model_name": "DescriptionStyleModel",
            "_view_count": null,
            "_view_module": "@jupyter-widgets/base",
            "_view_module_version": "1.2.0",
            "_view_name": "StyleView",
            "description_width": ""
          }
        }
      }
    }
  },
  "cells": [
    {
      "cell_type": "markdown",
      "metadata": {
        "id": "view-in-github",
        "colab_type": "text"
      },
      "source": [
        "<a href=\"https://colab.research.google.com/github/ekshustova/ekshustova/blob/main/CV_1.ipynb\" target=\"_parent\"><img src=\"https://colab.research.google.com/assets/colab-badge.svg\" alt=\"Open In Colab\"/></a>"
      ]
    },
    {
      "cell_type": "markdown",
      "metadata": {
        "cell_id": 1,
        "id": "kr9vAeEQlRVG"
      },
      "source": [
        "# Домашнее задание 2. Классификация изображений."
      ]
    },
    {
      "cell_type": "markdown",
      "metadata": {
        "cell_id": 3,
        "id": "BxX49gLclRVJ"
      },
      "source": [
        "В этом задании потребуется обучить классификатор изображений. Будем работать с датасетом, название которого раскрывать не будем. Можете посмотреть самостоятельно на картинки, которые в есть датасете. В нём 200 классов и около 5 тысяч картинок на каждый класс. Классы пронумерованы, как нетрудно догадаться, от 0 до 199. Скачать датасет можно вот [тут](https://yadi.sk/d/BNR41Vu3y0c7qA).\n",
        "\n",
        "Структура датасета простая -- есть директории train/ и val/, в которых лежат обучающие и валидационные данные. В train/ и val/ лежат директориии, соответствующие классам изображений, в которых лежат, собственно, сами изображения.\n",
        "\n",
        "__Задание__. Необходимо выполнить два задания\n",
        "\n",
        "1) Добейтесь accuracy **на валидации не менее 0.44**. В этом задании **запрещено** пользоваться предобученными моделями и ресайзом картинок. 5 баллов\n",
        "\n",
        "2) Добейтесь accuracy **на валидации не менее 0.84**. В этом задании делать ресайз и использовать претрейн можно. 5 баллов\n",
        "\n",
        "Напишите краткий отчёт о проделанных экспериментах. Что сработало и что не сработало? Почему вы решили, сделать так, а не иначе? Обязательно указывайте ссылки на чужой код, если вы его используете. Обязательно ссылайтесь на статьи / блогпосты / вопросы на stackoverflow / видосы от ютуберов-машинлернеров / курсы / подсказки от Дяди Васи и прочие дополнительные материалы, если вы их используете.\n",
        "\n",
        "Ваш код обязательно должен проходить все `assert`'ы ниже.\n",
        "\n",
        "__Использовать внешние данные для обучения строго запрещено в обоих заданиях. Также запрещено обучаться на валидационной выборке__.\n",
        "\n",
        "\n",
        "__Критерии оценки__: Оценка вычисляется по простой формуле: `min(10, 10 * Ваша accuracy / 0.44)` для первого задания и `min(10, 10 * (Ваша accuracy - 0.5) / 0.34)` для второго. Оценка округляется до десятых по арифметическим правилам.\n",
        "\n",
        "\n",
        "__Советы и указания__:\n",
        " - Наверняка вам потребуется много гуглить о классификации и о том, как заставить её работать. Это нормально, все гуглят. Но не забывайте, что нужно быть готовым за скатанный код отвечать :)\n",
        " - Используйте аугментации. Для этого пользуйтесь модулем `torchvision.transforms` или библиотекой [albumentations](https://github.com/albumentations-team/albumentations)\n",
        " - Можно обучать с нуля или файнтюнить (в зависимости от задания) модели из `torchvision`.\n",
        " - Рекомендуем написать вам сначала класс-датасет (или воспользоваться классом `ImageFolder`), который возвращает картинки и соответствующие им классы, а затем функции для трейна по шаблонам ниже. Однако делать это мы не заставляем. Если вам так неудобно, то можете писать код в удобном стиле. Однако учтите, что чрезмерное изменение нижеперечисленных шаблонов увеличит количество вопросов к вашему коду и повысит вероятность вызова на защиту :)\n",
        " - Валидируйте. Трекайте ошибки как можно раньше, чтобы не тратить время впустую.\n",
        " - Чтобы быстро отладить код, пробуйте обучаться на маленькой части датасета (скажем, 5-10 картинок просто чтобы убедиться что код запускается). Когда вы поняли, что смогли всё отдебажить, переходите обучению по всему датасету\n",
        " - На каждый запуск делайте ровно одно изменение в модели/аугментации/оптимайзере, чтобы понять, что и как влияет на результат.\n",
        " - Фиксируйте random seed.\n",
        " - Начинайте с простых моделей и постепенно переходите к сложным. Обучение лёгких моделей экономит много времени.\n",
        " - Ставьте расписание на learning rate. Уменьшайте его, когда лосс на валидации перестаёт убывать.\n",
        " - Советуем использовать GPU. Если у вас его нет, используйте google colab. Если вам неудобно его использовать на постоянной основе, напишите и отладьте весь код локально на CPU, а затем запустите уже написанный ноутбук в колабе. Авторское решение задания достигает требуемой точности в колабе за 15 минут обучения.\n",
        "\n",
        "Good luck & have fun! :)"
      ]
    },
    {
      "cell_type": "code",
      "source": [
        "!pip install wandb\n",
        "!pip3 install pytorch_lightning torchmetrics"
      ],
      "metadata": {
        "id": "BaPSFxIz96tY",
        "colab": {
          "base_uri": "https://localhost:8080/"
        },
        "outputId": "29034b09-f83f-45e5-fa20-a6f2ea8c7f42"
      },
      "execution_count": null,
      "outputs": [
        {
          "output_type": "stream",
          "name": "stdout",
          "text": [
            "Looking in indexes: https://pypi.org/simple, https://us-python.pkg.dev/colab-wheels/public/simple/\n",
            "Requirement already satisfied: wandb in /usr/local/lib/python3.7/dist-packages (0.13.4)\n",
            "Requirement already satisfied: Click!=8.0.0,>=7.0 in /usr/local/lib/python3.7/dist-packages (from wandb) (7.1.2)\n",
            "Requirement already satisfied: requests<3,>=2.0.0 in /usr/local/lib/python3.7/dist-packages (from wandb) (2.23.0)\n",
            "Requirement already satisfied: GitPython>=1.0.0 in /usr/local/lib/python3.7/dist-packages (from wandb) (3.1.29)\n",
            "Requirement already satisfied: psutil>=5.0.0 in /usr/local/lib/python3.7/dist-packages (from wandb) (5.4.8)\n",
            "Requirement already satisfied: docker-pycreds>=0.4.0 in /usr/local/lib/python3.7/dist-packages (from wandb) (0.4.0)\n",
            "Requirement already satisfied: setproctitle in /usr/local/lib/python3.7/dist-packages (from wandb) (1.3.2)\n",
            "Requirement already satisfied: shortuuid>=0.5.0 in /usr/local/lib/python3.7/dist-packages (from wandb) (1.0.9)\n",
            "Requirement already satisfied: sentry-sdk>=1.0.0 in /usr/local/lib/python3.7/dist-packages (from wandb) (1.9.0)\n",
            "Requirement already satisfied: protobuf!=4.0.*,!=4.21.0,<5,>=3.12.0 in /usr/local/lib/python3.7/dist-packages (from wandb) (3.17.3)\n",
            "Requirement already satisfied: six>=1.13.0 in /usr/local/lib/python3.7/dist-packages (from wandb) (1.15.0)\n",
            "Requirement already satisfied: PyYAML in /usr/local/lib/python3.7/dist-packages (from wandb) (6.0)\n",
            "Requirement already satisfied: pathtools in /usr/local/lib/python3.7/dist-packages (from wandb) (0.1.2)\n",
            "Requirement already satisfied: setuptools in /usr/local/lib/python3.7/dist-packages (from wandb) (57.4.0)\n",
            "Requirement already satisfied: promise<3,>=2.0 in /usr/local/lib/python3.7/dist-packages (from wandb) (2.3)\n",
            "Requirement already satisfied: typing-extensions>=3.7.4.3 in /usr/local/lib/python3.7/dist-packages (from GitPython>=1.0.0->wandb) (4.1.1)\n",
            "Requirement already satisfied: gitdb<5,>=4.0.1 in /usr/local/lib/python3.7/dist-packages (from GitPython>=1.0.0->wandb) (4.0.9)\n",
            "Requirement already satisfied: smmap<6,>=3.0.1 in /usr/local/lib/python3.7/dist-packages (from gitdb<5,>=4.0.1->GitPython>=1.0.0->wandb) (5.0.0)\n",
            "Requirement already satisfied: chardet<4,>=3.0.2 in /usr/local/lib/python3.7/dist-packages (from requests<3,>=2.0.0->wandb) (3.0.4)\n",
            "Requirement already satisfied: urllib3!=1.25.0,!=1.25.1,<1.26,>=1.21.1 in /usr/local/lib/python3.7/dist-packages (from requests<3,>=2.0.0->wandb) (1.24.3)\n",
            "Requirement already satisfied: idna<3,>=2.5 in /usr/local/lib/python3.7/dist-packages (from requests<3,>=2.0.0->wandb) (2.10)\n",
            "Requirement already satisfied: certifi>=2017.4.17 in /usr/local/lib/python3.7/dist-packages (from requests<3,>=2.0.0->wandb) (2022.9.24)\n",
            "Looking in indexes: https://pypi.org/simple, https://us-python.pkg.dev/colab-wheels/public/simple/\n",
            "Requirement already satisfied: pytorch_lightning in /usr/local/lib/python3.7/dist-packages (1.8.0.post1)\n",
            "Requirement already satisfied: torchmetrics in /usr/local/lib/python3.7/dist-packages (0.10.2)\n",
            "Requirement already satisfied: numpy>=1.17.2 in /usr/local/lib/python3.7/dist-packages (from pytorch_lightning) (1.21.6)\n",
            "Requirement already satisfied: tqdm>=4.57.0 in /usr/local/lib/python3.7/dist-packages (from pytorch_lightning) (4.64.1)\n",
            "Requirement already satisfied: PyYAML>=5.4 in /usr/local/lib/python3.7/dist-packages (from pytorch_lightning) (6.0)\n",
            "Requirement already satisfied: lightning-lite==1.8.0.post1 in /usr/local/lib/python3.7/dist-packages (from pytorch_lightning) (1.8.0.post1)\n",
            "Requirement already satisfied: typing-extensions>=4.0.0 in /usr/local/lib/python3.7/dist-packages (from pytorch_lightning) (4.1.1)\n",
            "Requirement already satisfied: fsspec[http]>2021.06.0 in /usr/local/lib/python3.7/dist-packages (from pytorch_lightning) (2022.10.0)\n",
            "Requirement already satisfied: lightning-utilities==0.3.* in /usr/local/lib/python3.7/dist-packages (from pytorch_lightning) (0.3.0)\n",
            "Requirement already satisfied: packaging>=17.0 in /usr/local/lib/python3.7/dist-packages (from pytorch_lightning) (21.3)\n",
            "Requirement already satisfied: torch>=1.9.* in /usr/local/lib/python3.7/dist-packages (from pytorch_lightning) (1.12.1+cu113)\n",
            "Requirement already satisfied: tensorboard>=2.9.1 in /usr/local/lib/python3.7/dist-packages (from pytorch_lightning) (2.9.1)\n",
            "Requirement already satisfied: fire in /usr/local/lib/python3.7/dist-packages (from lightning-utilities==0.3.*->pytorch_lightning) (0.4.0)\n",
            "Requirement already satisfied: requests in /usr/local/lib/python3.7/dist-packages (from fsspec[http]>2021.06.0->pytorch_lightning) (2.23.0)\n",
            "Requirement already satisfied: aiohttp!=4.0.0a0,!=4.0.0a1 in /usr/local/lib/python3.7/dist-packages (from fsspec[http]>2021.06.0->pytorch_lightning) (3.8.3)\n",
            "Requirement already satisfied: frozenlist>=1.1.1 in /usr/local/lib/python3.7/dist-packages (from aiohttp!=4.0.0a0,!=4.0.0a1->fsspec[http]>2021.06.0->pytorch_lightning) (1.3.1)\n",
            "Requirement already satisfied: multidict<7.0,>=4.5 in /usr/local/lib/python3.7/dist-packages (from aiohttp!=4.0.0a0,!=4.0.0a1->fsspec[http]>2021.06.0->pytorch_lightning) (6.0.2)\n",
            "Requirement already satisfied: charset-normalizer<3.0,>=2.0 in /usr/local/lib/python3.7/dist-packages (from aiohttp!=4.0.0a0,!=4.0.0a1->fsspec[http]>2021.06.0->pytorch_lightning) (2.1.1)\n",
            "Requirement already satisfied: yarl<2.0,>=1.0 in /usr/local/lib/python3.7/dist-packages (from aiohttp!=4.0.0a0,!=4.0.0a1->fsspec[http]>2021.06.0->pytorch_lightning) (1.8.1)\n",
            "Requirement already satisfied: attrs>=17.3.0 in /usr/local/lib/python3.7/dist-packages (from aiohttp!=4.0.0a0,!=4.0.0a1->fsspec[http]>2021.06.0->pytorch_lightning) (22.1.0)\n",
            "Requirement already satisfied: aiosignal>=1.1.2 in /usr/local/lib/python3.7/dist-packages (from aiohttp!=4.0.0a0,!=4.0.0a1->fsspec[http]>2021.06.0->pytorch_lightning) (1.2.0)\n",
            "Requirement already satisfied: async-timeout<5.0,>=4.0.0a3 in /usr/local/lib/python3.7/dist-packages (from aiohttp!=4.0.0a0,!=4.0.0a1->fsspec[http]>2021.06.0->pytorch_lightning) (4.0.2)\n",
            "Requirement already satisfied: asynctest==0.13.0 in /usr/local/lib/python3.7/dist-packages (from aiohttp!=4.0.0a0,!=4.0.0a1->fsspec[http]>2021.06.0->pytorch_lightning) (0.13.0)\n",
            "Requirement already satisfied: pyparsing!=3.0.5,>=2.0.2 in /usr/local/lib/python3.7/dist-packages (from packaging>=17.0->pytorch_lightning) (3.0.9)\n",
            "Requirement already satisfied: google-auth-oauthlib<0.5,>=0.4.1 in /usr/local/lib/python3.7/dist-packages (from tensorboard>=2.9.1->pytorch_lightning) (0.4.6)\n",
            "Requirement already satisfied: absl-py>=0.4 in /usr/local/lib/python3.7/dist-packages (from tensorboard>=2.9.1->pytorch_lightning) (1.3.0)\n",
            "Requirement already satisfied: google-auth<3,>=1.6.3 in /usr/local/lib/python3.7/dist-packages (from tensorboard>=2.9.1->pytorch_lightning) (1.35.0)\n",
            "Requirement already satisfied: setuptools>=41.0.0 in /usr/local/lib/python3.7/dist-packages (from tensorboard>=2.9.1->pytorch_lightning) (57.4.0)\n",
            "Requirement already satisfied: tensorboard-data-server<0.7.0,>=0.6.0 in /usr/local/lib/python3.7/dist-packages (from tensorboard>=2.9.1->pytorch_lightning) (0.6.1)\n",
            "Requirement already satisfied: tensorboard-plugin-wit>=1.6.0 in /usr/local/lib/python3.7/dist-packages (from tensorboard>=2.9.1->pytorch_lightning) (1.8.1)\n",
            "Requirement already satisfied: werkzeug>=1.0.1 in /usr/local/lib/python3.7/dist-packages (from tensorboard>=2.9.1->pytorch_lightning) (1.0.1)\n",
            "Requirement already satisfied: protobuf<3.20,>=3.9.2 in /usr/local/lib/python3.7/dist-packages (from tensorboard>=2.9.1->pytorch_lightning) (3.17.3)\n",
            "Requirement already satisfied: grpcio>=1.24.3 in /usr/local/lib/python3.7/dist-packages (from tensorboard>=2.9.1->pytorch_lightning) (1.50.0)\n",
            "Requirement already satisfied: markdown>=2.6.8 in /usr/local/lib/python3.7/dist-packages (from tensorboard>=2.9.1->pytorch_lightning) (3.4.1)\n",
            "Requirement already satisfied: wheel>=0.26 in /usr/local/lib/python3.7/dist-packages (from tensorboard>=2.9.1->pytorch_lightning) (0.37.1)\n",
            "Requirement already satisfied: cachetools<5.0,>=2.0.0 in /usr/local/lib/python3.7/dist-packages (from google-auth<3,>=1.6.3->tensorboard>=2.9.1->pytorch_lightning) (4.2.4)\n",
            "Requirement already satisfied: rsa<5,>=3.1.4 in /usr/local/lib/python3.7/dist-packages (from google-auth<3,>=1.6.3->tensorboard>=2.9.1->pytorch_lightning) (4.9)\n",
            "Requirement already satisfied: six>=1.9.0 in /usr/local/lib/python3.7/dist-packages (from google-auth<3,>=1.6.3->tensorboard>=2.9.1->pytorch_lightning) (1.15.0)\n",
            "Requirement already satisfied: pyasn1-modules>=0.2.1 in /usr/local/lib/python3.7/dist-packages (from google-auth<3,>=1.6.3->tensorboard>=2.9.1->pytorch_lightning) (0.2.8)\n",
            "Requirement already satisfied: requests-oauthlib>=0.7.0 in /usr/local/lib/python3.7/dist-packages (from google-auth-oauthlib<0.5,>=0.4.1->tensorboard>=2.9.1->pytorch_lightning) (1.3.1)\n",
            "Requirement already satisfied: importlib-metadata>=4.4 in /usr/local/lib/python3.7/dist-packages (from markdown>=2.6.8->tensorboard>=2.9.1->pytorch_lightning) (4.13.0)\n",
            "Requirement already satisfied: zipp>=0.5 in /usr/local/lib/python3.7/dist-packages (from importlib-metadata>=4.4->markdown>=2.6.8->tensorboard>=2.9.1->pytorch_lightning) (3.10.0)\n",
            "Requirement already satisfied: pyasn1<0.5.0,>=0.4.6 in /usr/local/lib/python3.7/dist-packages (from pyasn1-modules>=0.2.1->google-auth<3,>=1.6.3->tensorboard>=2.9.1->pytorch_lightning) (0.4.8)\n",
            "Requirement already satisfied: chardet<4,>=3.0.2 in /usr/local/lib/python3.7/dist-packages (from requests->fsspec[http]>2021.06.0->pytorch_lightning) (3.0.4)\n",
            "Requirement already satisfied: urllib3!=1.25.0,!=1.25.1,<1.26,>=1.21.1 in /usr/local/lib/python3.7/dist-packages (from requests->fsspec[http]>2021.06.0->pytorch_lightning) (1.24.3)\n",
            "Requirement already satisfied: certifi>=2017.4.17 in /usr/local/lib/python3.7/dist-packages (from requests->fsspec[http]>2021.06.0->pytorch_lightning) (2022.9.24)\n",
            "Requirement already satisfied: idna<3,>=2.5 in /usr/local/lib/python3.7/dist-packages (from requests->fsspec[http]>2021.06.0->pytorch_lightning) (2.10)\n",
            "Requirement already satisfied: oauthlib>=3.0.0 in /usr/local/lib/python3.7/dist-packages (from requests-oauthlib>=0.7.0->google-auth-oauthlib<0.5,>=0.4.1->tensorboard>=2.9.1->pytorch_lightning) (3.2.2)\n",
            "Requirement already satisfied: termcolor in /usr/local/lib/python3.7/dist-packages (from fire->lightning-utilities==0.3.*->pytorch_lightning) (2.0.1)\n"
          ]
        }
      ]
    },
    {
      "cell_type": "code",
      "source": [
        "# Возможно ниже будет не очень работать WandbLogger с первого разу, перезапустите kernel тетрадки\n",
        "import wandb\n",
        "\n",
        "wandb.login()"
      ],
      "metadata": {
        "id": "EWT3aFU9XmLJ",
        "colab": {
          "base_uri": "https://localhost:8080/"
        },
        "outputId": "72c568ea-50f4-4797-c890-e94922eacdc8"
      },
      "execution_count": null,
      "outputs": [
        {
          "output_type": "stream",
          "name": "stderr",
          "text": [
            "ERROR:wandb.jupyter:Failed to detect the name of this notebook, you can set it manually with the WANDB_NOTEBOOK_NAME environment variable to enable code saving.\n",
            "\u001b[34m\u001b[1mwandb\u001b[0m: Currently logged in as: \u001b[33mkokarevn\u001b[0m. Use \u001b[1m`wandb login --relogin`\u001b[0m to force relogin\n"
          ]
        },
        {
          "output_type": "execute_result",
          "data": {
            "text/plain": [
              "True"
            ]
          },
          "metadata": {},
          "execution_count": 2
        }
      ]
    },
    {
      "cell_type": "code",
      "metadata": {
        "cell_id": 4,
        "id": "LKcSNj4tlRVK",
        "colab": {
          "base_uri": "https://localhost:8080/",
          "height": 368
        },
        "outputId": "59ee77b4-4169-4f6f-bf7c-e31ee5d1a340"
      },
      "source": [
        "import math\n",
        "import os\n",
        "import random\n",
        "import sys\n",
        "\n",
        "import matplotlib.pyplot as plt\n",
        "import numpy as np\n",
        "import pytorch_lightning as pl\n",
        "import torch\n",
        "import torchvision\n",
        "import torchvision.transforms as transforms\n",
        "from PIL import Image\n",
        "from pytorch_lightning.loggers import WandbLogger\n",
        "from torch import nn\n",
        "from torch.nn import functional as F\n",
        "from torch.utils.data import DataLoader\n",
        "from torchmetrics.functional import accuracy\n",
        "from torchvision.datasets import ImageFolder\n",
        "from tqdm import tqdm\n"
      ],
      "execution_count": null,
      "outputs": [
        {
          "output_type": "error",
          "ename": "ModuleNotFoundError",
          "evalue": "ignored",
          "traceback": [
            "\u001b[0;31m---------------------------------------------------------------------------\u001b[0m",
            "\u001b[0;31mModuleNotFoundError\u001b[0m                       Traceback (most recent call last)",
            "\u001b[0;32m<ipython-input-2-198917335639>\u001b[0m in \u001b[0;36m<module>\u001b[0;34m\u001b[0m\n\u001b[1;32m      6\u001b[0m \u001b[0;32mimport\u001b[0m \u001b[0mmatplotlib\u001b[0m\u001b[0;34m.\u001b[0m\u001b[0mpyplot\u001b[0m \u001b[0;32mas\u001b[0m \u001b[0mplt\u001b[0m\u001b[0;34m\u001b[0m\u001b[0;34m\u001b[0m\u001b[0m\n\u001b[1;32m      7\u001b[0m \u001b[0;32mimport\u001b[0m \u001b[0mnumpy\u001b[0m \u001b[0;32mas\u001b[0m \u001b[0mnp\u001b[0m\u001b[0;34m\u001b[0m\u001b[0;34m\u001b[0m\u001b[0m\n\u001b[0;32m----> 8\u001b[0;31m \u001b[0;32mimport\u001b[0m \u001b[0mpytorch_lightning\u001b[0m \u001b[0;32mas\u001b[0m \u001b[0mpl\u001b[0m\u001b[0;34m\u001b[0m\u001b[0;34m\u001b[0m\u001b[0m\n\u001b[0m\u001b[1;32m      9\u001b[0m \u001b[0;32mimport\u001b[0m \u001b[0mtorch\u001b[0m\u001b[0;34m\u001b[0m\u001b[0;34m\u001b[0m\u001b[0m\n\u001b[1;32m     10\u001b[0m \u001b[0;32mimport\u001b[0m \u001b[0mtorchvision\u001b[0m\u001b[0;34m\u001b[0m\u001b[0;34m\u001b[0m\u001b[0m\n",
            "\u001b[0;31mModuleNotFoundError\u001b[0m: No module named 'pytorch_lightning'",
            "",
            "\u001b[0;31m---------------------------------------------------------------------------\u001b[0;32m\nNOTE: If your import is failing due to a missing package, you can\nmanually install dependencies using either !pip or !apt.\n\nTo view examples of installing some common dependencies, click the\n\"Open Examples\" button below.\n\u001b[0;31m---------------------------------------------------------------------------\u001b[0m\n"
          ],
          "errorDetails": {
            "actions": [
              {
                "action": "open_url",
                "actionText": "Open Examples",
                "url": "/notebooks/snippets/importing_libraries.ipynb"
              }
            ]
          }
        }
      ]
    },
    {
      "cell_type": "code",
      "source": [
        "# You may add any imports you need\n",
        "import albumentations as A\n",
        "from albumentations.pytorch import ToTensorV2\n",
        "from torch.utils.data import Dataset\n",
        "import cv2\n",
        "import glob\n",
        "from pandas.core.common import flatten"
      ],
      "metadata": {
        "id": "dyFCQxY37n7e"
      },
      "execution_count": null,
      "outputs": []
    },
    {
      "cell_type": "code",
      "source": [
        "def seed_everything(seed):\n",
        "    # Фискирует максимум сидов.\n",
        "    # Это понадобится, чтобы сравнение оптимизаторов было корректным\n",
        "    random.seed(seed)\n",
        "    os.environ[\"PYTHONHASHSEED\"] = str(seed)\n",
        "    np.random.seed(seed)\n",
        "    torch.manual_seed(seed)\n",
        "    torch.cuda.manual_seed(seed)\n",
        "    torch.backends.cudnn.deterministic = True\n",
        "\n",
        "\n",
        "seed_everything(123456)"
      ],
      "metadata": {
        "id": "47YPLjDL-Mtv"
      },
      "execution_count": null,
      "outputs": []
    },
    {
      "cell_type": "code",
      "source": [
        "!wget https://www.dropbox.com/s/33l8lp62rmvtx40/dataset.zip?dl=1 -O dataset.zip && unzip -q dataset.zip"
      ],
      "metadata": {
        "id": "gVKdh063AzhH",
        "colab": {
          "base_uri": "https://localhost:8080/"
        },
        "outputId": "4c485e80-7c31-4b4e-86d3-946c1e82e6e5"
      },
      "execution_count": null,
      "outputs": [
        {
          "output_type": "stream",
          "name": "stdout",
          "text": [
            "--2022-11-03 12:44:07--  https://www.dropbox.com/s/33l8lp62rmvtx40/dataset.zip?dl=1\n",
            "Resolving www.dropbox.com (www.dropbox.com)... 162.125.1.18, 2620:100:6016:18::a27d:112\n",
            "Connecting to www.dropbox.com (www.dropbox.com)|162.125.1.18|:443... connected.\n",
            "HTTP request sent, awaiting response... 302 Found\n",
            "Location: /s/dl/33l8lp62rmvtx40/dataset.zip [following]\n",
            "--2022-11-03 12:44:07--  https://www.dropbox.com/s/dl/33l8lp62rmvtx40/dataset.zip\n",
            "Reusing existing connection to www.dropbox.com:443.\n",
            "HTTP request sent, awaiting response... 302 Found\n",
            "Location: https://uc626b347e07215c6d783d701c5a.dl.dropboxusercontent.com/cd/0/get/BwD6l6D6Xv1b0887Gh61FqVfKFyKIXdzQ5uc0DrQPUNen6NGqrsYIz_hU4lA4WaiVteT2wM5qx9Y5tttWNfsksRmzT-x9xtsuO0Uj3vg9ipOeGQoG69J6yHhLtN5WiYf6iUbqmycVKoCsE4M0-3urfHXpMSLtl2QKiWSJW2nBMfCag/file?dl=1# [following]\n",
            "--2022-11-03 12:44:07--  https://uc626b347e07215c6d783d701c5a.dl.dropboxusercontent.com/cd/0/get/BwD6l6D6Xv1b0887Gh61FqVfKFyKIXdzQ5uc0DrQPUNen6NGqrsYIz_hU4lA4WaiVteT2wM5qx9Y5tttWNfsksRmzT-x9xtsuO0Uj3vg9ipOeGQoG69J6yHhLtN5WiYf6iUbqmycVKoCsE4M0-3urfHXpMSLtl2QKiWSJW2nBMfCag/file?dl=1\n",
            "Resolving uc626b347e07215c6d783d701c5a.dl.dropboxusercontent.com (uc626b347e07215c6d783d701c5a.dl.dropboxusercontent.com)... 162.125.1.15, 2620:100:6035:15::a27d:550f\n",
            "Connecting to uc626b347e07215c6d783d701c5a.dl.dropboxusercontent.com (uc626b347e07215c6d783d701c5a.dl.dropboxusercontent.com)|162.125.1.15|:443... connected.\n",
            "HTTP request sent, awaiting response... 200 OK\n",
            "Length: 220318689 (210M) [application/binary]\n",
            "Saving to: ‘dataset.zip’\n",
            "\n",
            "dataset.zip         100%[===================>] 210.11M  73.3MB/s    in 2.9s    \n",
            "\n",
            "2022-11-03 12:44:11 (73.3 MB/s) - ‘dataset.zip’ saved [220318689/220318689]\n",
            "\n"
          ]
        }
      ]
    },
    {
      "cell_type": "markdown",
      "metadata": {
        "id": "RytEDW0ylRVN"
      },
      "source": [
        "## Задание 0"
      ]
    },
    {
      "cell_type": "markdown",
      "source": [
        "### Что поможет сделать на 10 из 10 (одно задание - 5 баллов)"
      ],
      "metadata": {
        "id": "2HZECedTvepi"
      }
    },
    {
      "cell_type": "markdown",
      "source": [
        "1. Использовать все возможные методы оптимизации и эксперемнтировать с ними.\n",
        "2. Подбор learning rate. Пример из прошлого семинара как это делать: [Как найти lr](https://pytorch-lightning.readthedocs.io/en/1.4.5/advanced/lr_finder.html)\n",
        "\n",
        "```\n",
        "  trainer = pl.Trainer(accelerator=\"gpu\", max_epochs=2, auto_lr_find=True)\n",
        "\n",
        "  trainer.tune(module, train_dataloader, eval_dataloader)\n",
        "\n",
        "  trainer.fit(module, train_dataloader, eval_dataloader))\n",
        "```\n",
        "\n",
        "\n",
        "\n",
        "3. Аугментация данных. [Документация (полезная)](https://pytorch.org/vision/main/transforms.html), а также [библиотека albumentation](https://towardsdatascience.com/getting-started-with-albumentation-winning-deep-learning-image-augmentation-technique-in-pytorch-47aaba0ee3f8)\n",
        "4. Подбор архитектуры модели.\n",
        "5. Можно написать модель руками свою в YourNet, а можно импортировать не предобученную сетку известной архитектуры из модуля torchvision.models. Один из способов как можно сделать:\n",
        "\n",
        "  * `torchvision.models.resnet18(pretrained=False, num_classes=200).to(device)`\n",
        "  * Документация по возможным моделям и как их можно брать: [Документация (полезная)](https://pytorch.org/vision/stable/models.html)\n",
        "6. Правильно нормализовывать данные при создании, пример [тык, но тут и в целом гайд от и до](https://www.pluralsight.com/guides/image-classification-with-pytorch)\n",
        "7. Model Checkpointing. Сохраняйте свой прогресс (модели), чтобы когда что-то пойдет не так вы сможете начать с этого места или просто воспроизвести свои результаты модели, которые обучали.\n",
        " * Пример как можно с wandb тут: [Сохраняем лучшие модели в wandb](https://docs.wandb.ai/guides/integrations/lightning)\n",
        " * По простому можно так: [Сохраняем модели в pytorch дока](https://pytorch.org/tutorials/beginner/saving_loading_models.html)"
      ],
      "metadata": {
        "id": "dOioHGEiveso"
      }
    },
    {
      "cell_type": "markdown",
      "source": [
        "### Подготовка данных"
      ],
      "metadata": {
        "id": "WYePsQgNRB-n"
      }
    },
    {
      "cell_type": "code",
      "source": [
        "train_data_path = \"./dataset/dataset/train\"\n",
        "val_data_path = \"./dataset/dataset/val\"\n",
        "\n",
        "train_image_paths = []\n",
        "classes = []\n",
        "\n",
        "for data_path in glob.glob(train_data_path + '/*'):\n",
        "    classes.append(data_path.split('/')[-1])\n",
        "    train_image_paths.append(glob.glob(data_path + '/*'))\n",
        "\n",
        "train_image_paths = list(flatten(train_image_paths))\n",
        "random.shuffle(train_image_paths)\n",
        "\n",
        "val_image_paths = []\n",
        "for data_path in glob.glob(val_data_path + '/*'):\n",
        "    val_image_paths.append(glob.glob(data_path + '/*'))\n",
        "\n",
        "val_image_paths = list(flatten(val_image_paths))\n",
        "\n",
        "idx_to_class = {i:j for i, j in enumerate(classes)}\n",
        "class_to_idx = {value:key for key,value in idx_to_class.items()}"
      ],
      "metadata": {
        "id": "UE4WHyvlCnnF"
      },
      "execution_count": null,
      "outputs": []
    },
    {
      "cell_type": "code",
      "source": [
        "class MyDataset(Dataset):\n",
        "\n",
        "    def __init__(self, image_paths, transform=False):\n",
        "        self.image_paths = image_paths\n",
        "        self.transform = transform\n",
        "\n",
        "    def __getitem__(self, idx):\n",
        "        image_filepath = self.image_paths[idx]\n",
        "\n",
        "        image = cv2.imread(image_filepath)\n",
        "        image = cv2.cvtColor(image, cv2.COLOR_BGR2RGB)\n",
        "\n",
        "        label = image_filepath.split('/')[-2]\n",
        "        label = class_to_idx[label]\n",
        "\n",
        "        if self.transform is not None:\n",
        "            image = self.transform(image=image)[\"image\"]\n",
        "\n",
        "        return image, label\n",
        "\n",
        "    def __len__(self):\n",
        "        return len(self.image_paths)"
      ],
      "metadata": {
        "id": "VZDEoNtJBe72"
      },
      "execution_count": null,
      "outputs": []
    },
    {
      "cell_type": "code",
      "metadata": {
        "cell_id": 5,
        "id": "QEdDQtHdlRVO"
      },
      "source": [
        "# YOU CAN DEFINE AUGMENTATIONS HERE брал по следующей ссылке https://albumentations.ai/docs/examples/example/\n",
        "train_transform = A.Compose([\n",
        "        #A.ShiftScaleRotate(shift_limit=0.05, scale_limit=0.05, rotate_limit=360, p=0.5),\n",
        "        A.RGBShift(r_shift_limit=15, g_shift_limit=15, b_shift_limit=15, p=0.5),\n",
        "        A.RandomBrightnessContrast(p=0.5),\n",
        "        A.MultiplicativeNoise(multiplier=[0.5,2], per_channel=True, p=0.1),\n",
        "        A.HorizontalFlip(p=0.5),\n",
        "        A.Sharpen(p=0.5),\n",
        "        #A.VerticalFlip(p=0.5),\n",
        "        #A.HueSaturationValue(hue_shift_limit=0.2, sat_shift_limit=0.2, val_shift_limit=0.2, p=0.4),\n",
        "        A.Normalize(mean=[0.485, 0.456, 0.406], std=[0.229, 0.224, 0.225]),\n",
        "        ToTensorV2()\n",
        "    ])\n",
        "val_transform = A.Compose([\n",
        "        A.Normalize(mean=[0.485, 0.456, 0.406], std=[0.229, 0.224, 0.225]),\n",
        "        ToTensorV2()\n",
        "    ])\n",
        "\n",
        "train_dataset = MyDataset(train_image_paths, transform=train_transform)\n",
        "val_dataset = MyDataset(val_image_paths, transform=val_transform)\n",
        "# REPLACE ./dataset/dataset WITH THE FOLDER WHERE YOU DOWNLOADED AND UNZIPPED THE DATASET\n",
        "\n",
        "train_dataloader =  torch.utils.data.DataLoader(train_dataset, batch_size=256, shuffle=True)\n",
        "val_dataloader = torch.utils.data.DataLoader(val_dataset, batch_size=256, shuffle=False)"
      ],
      "execution_count": null,
      "outputs": []
    },
    {
      "cell_type": "code",
      "metadata": {
        "cell_id": 6,
        "id": "mrg4Yj0VlRVP",
        "colab": {
          "base_uri": "https://localhost:8080/"
        },
        "outputId": "548e7797-4f4e-4151-e248-d3e593237888"
      },
      "source": [
        "# Just very simple sanity checks\n",
        "assert isinstance(train_dataset[0], tuple)\n",
        "assert len(train_dataset[0]) == 2\n",
        "assert isinstance(train_dataset[1][1], int)\n",
        "print(\"tests passed\")"
      ],
      "execution_count": null,
      "outputs": [
        {
          "output_type": "stream",
          "name": "stdout",
          "text": [
            "tests passed\n"
          ]
        }
      ]
    },
    {
      "cell_type": "markdown",
      "source": [
        "### Посмотрим на картиночки"
      ],
      "metadata": {
        "id": "EOuM0EEYj7Ml"
      }
    },
    {
      "cell_type": "code",
      "source": [
        "for batch in val_dataloader:\n",
        "    images, class_nums = batch\n",
        "    plt.imshow(images[5].permute(1, 2, 0))\n",
        "    plt.show()\n",
        "    plt.imshow(images[19].permute(1, 2, 0))\n",
        "    plt.show()\n",
        "    break"
      ],
      "metadata": {
        "id": "DeuB0YC3LYRm",
        "colab": {
          "base_uri": "https://localhost:8080/",
          "height": 555
        },
        "outputId": "c3c526b9-c63e-41cb-d6d3-7e60f40c9766"
      },
      "execution_count": null,
      "outputs": [
        {
          "output_type": "stream",
          "name": "stderr",
          "text": [
            "WARNING:matplotlib.image:Clipping input data to the valid range for imshow with RGB data ([0..1] for floats or [0..255] for integers).\n"
          ]
        },
        {
          "output_type": "display_data",
          "data": {
            "text/plain": [
              "<Figure size 432x288 with 1 Axes>"
            ],
            "image/png": "[encoded data removed]"
          },
          "metadata": {
            "needs_background": "light"
          }
        },
        {
          "output_type": "stream",
          "name": "stderr",
          "text": [
            "WARNING:matplotlib.image:Clipping input data to the valid range for imshow with RGB data ([0..1] for floats or [0..255] for integers).\n"
          ]
        },
        {
          "output_type": "display_data",
          "data": {
            "text/plain": [
              "<Figure size 432x288 with 1 Axes>"
            ],
            "image/png": "[encoded data removed]"
          },
          "metadata": {
            "needs_background": "light"
          }
        }
      ]
    },
    {
      "cell_type": "markdown",
      "source": [
        "## Задание 1.\n",
        "\n",
        "5 баллов\n",
        "Добейтесь accuracy на валидации не менее 0.44. В этом задании запрещено пользоваться предобученными моделями и ресайзом картинок.\n",
        "\n",
        "\n",
        "Для того чтобы выбить скор (считается ниже) на 2.5/5 балла (то есть половину за задание) достаточно соблюдать пару простых жизненных правил:\n",
        "1. Аугментация (без нее сложно очень будет)\n",
        "2. Оптимайзеры можно (и нужно) использовать друг с другом. Однако когда что-то проверяете, то не меняйте несколько параметров сразу - собьете логику экспериментов\n",
        "3. Не используйте полносвязные модели или самые первые сверточные, используйте более современные архитектуры (что на лекциях встречались)\n",
        "4. Посмотреть все ноутбуки прошедших семинаров и слепить из них что-то общее. Семинарских тетрадок хватит сверх"
      ],
      "metadata": {
        "id": "LCwKB-3nKm1-"
      }
    },
    {
      "cell_type": "markdown",
      "source": [
        "### Модель (или просто импортируйте не предобученную)"
      ],
      "metadata": {
        "id": "pWR2l6ymZfRJ"
      }
    },
    {
      "cell_type": "code",
      "source": [
        "class YourNet(torch.nn.Module):\n",
        "    def __init__(self, dropout=0.1):\n",
        "        super(YourNet, self).__init__()\n",
        "\n",
        "        self.model = torchvision.models.densenet121(pretrained=False, num_classes=200)\n",
        "\n",
        "        self.loss_func = torch.nn.CrossEntropyLoss()\n",
        "        self.targets = torch.Tensor()\n",
        "        self.preds = torch.Tensor()\n",
        "\n",
        "    def _forward(self, x):\n",
        "        # runs the Neural Network\n",
        "        # YOUR CODE HERE\n",
        "\n",
        "        return self.model(x)\n",
        "\n",
        "    def forward(self, images, target=None):\n",
        "        # images ~ (batch size, num channels, height, width)\n",
        "        # target ~ (batch size)\n",
        "        # output ~ (batch size, num classes)\n",
        "        output = self._forward(images)\n",
        "\n",
        "        # get accuracy score and save it to self.accuracy\n",
        "        if target is not None:\n",
        "            loss = self.loss_func(output, target)\n",
        "\n",
        "            self.targets = torch.cat((self.targets, target.cpu()), 0)\n",
        "            pred = torch.argmax(output, dim=-1)\n",
        "            self.preds = torch.cat((self.preds, pred.cpu()), 0)\n",
        "            self.accuracy = accuracy(self.preds.long(), self.targets.long())\n",
        "\n",
        "        return loss\n",
        "    def get_accuracy(self, reset=False):\n",
        "        # YOUR CODE HERE\n",
        "        if reset:\n",
        "            self.targets = torch.Tensor()\n",
        "            self.preds = torch.Tensor()\n",
        "        return self.accuracy"
      ],
      "metadata": {
        "id": "mDYorQXLZhTQ"
      },
      "execution_count": null,
      "outputs": []
    },
    {
      "cell_type": "markdown",
      "source": [
        "### Тренировочный класс lightning"
      ],
      "metadata": {
        "id": "f7iHXWj1alM1"
      }
    },
    {
      "cell_type": "code",
      "source": [
        "class YourModule(pl.LightningModule):\n",
        "    def __init__(self, model, learning_rate):\n",
        "        super().__init__()\n",
        "        # YOUR CODE HERE\n",
        "        self.model = model\n",
        "        self.learning_rate = learning_rate\n",
        "        self.save_hyperparameters()\n",
        "\n",
        "    def forward(self, x):\n",
        "        # YOUR CODE HERE\n",
        "        result = self.model(x)\n",
        "\n",
        "        return result\n",
        "\n",
        "    def configure_optimizers(self):\n",
        "        # YOUR CODE HERE\n",
        "        optimizer = torch.optim.Adam(self.model.parameters(), lr=self.learning_rate, weight_decay=1e-4)\n",
        "        scheduler = torch.optim.lr_scheduler.ReduceLROnPlateau(optimizer, mode='min', patience=1)# задаем сам шедулер\n",
        "        return {\n",
        "           'optimizer': optimizer,\n",
        "           'lr_scheduler': scheduler, # Changed scheduler to lr_scheduler\n",
        "           'monitor': 'val_loss'\n",
        "       }\n",
        "\n",
        "    def training_step(self, train_batch, batch_idx):\n",
        "        # YOUR CODE HERE\n",
        "        images, target = train_batch\n",
        "        loss = self.model(images, target)\n",
        "        self.log('train_loss', loss, prog_bar=True)\n",
        "\n",
        "        return loss\n",
        "\n",
        "    def validation_step(self, val_batch, batch_idx):\n",
        "        # YOUR CODE HERE\n",
        "        images, target = val_batch\n",
        "        loss = self.model(images, target)\n",
        "        self.log('val_loss', loss, prog_bar=True)"
      ],
      "metadata": {
        "id": "lD76TeZ1apua"
      },
      "execution_count": null,
      "outputs": []
    },
    {
      "cell_type": "code",
      "source": [
        "wandb_logger = WandbLogger(log_model='all') # какие возможности дает с pytorch_lightning https://docs.wandb.ai/guides/integrations/lightning\n",
        "device = torch.device(\"cuda\") if torch.cuda.is_available() else torch.device(\"cpu\")\n",
        "\n",
        "model = YourNet().to(device)\n",
        "module = YourModule(\n",
        "    model,\n",
        "    learning_rate = 0.001\n",
        ")"
      ],
      "metadata": {
        "id": "z9-1wq7QYkiz"
      },
      "execution_count": null,
      "outputs": []
    },
    {
      "cell_type": "code",
      "source": [
        "seed_everything(123456)\n",
        "trainer = pl.Trainer(logger=wandb_logger,\n",
        "                     accelerator='gpu',\n",
        "                     max_epochs=17,\n",
        "                     auto_lr_find=True,\n",
        "                     log_every_n_steps=200,\n",
        "                     )  # YOUR CODE HERE\n",
        "trainer.fit(module, train_dataloader, val_dataloader, ckpt_path='/content/weights for densenet121.ckpt')  # YOUR CODE HERE"
      ],
      "metadata": {
        "id": "If8fi4HZkN3J"
      },
      "execution_count": null,
      "outputs": []
    },
    {
      "cell_type": "code",
      "source": [
        "torch.save(model.state_dict(), '/content/savemodel/model.pth') #Сохранил модель, так как гпу часы были близки к концу, vall_loss = 2.18 epoch 15"
      ],
      "metadata": {
        "id": "gNEPJ6MMC9LP"
      },
      "execution_count": null,
      "outputs": []
    },
    {
      "cell_type": "code",
      "source": [
        "model = YourNet().to(device) # Переобозначаю модель\n",
        "model.load_state_dict(torch.load('/content/savemodel/model.pth')) # И загружаю ранее предобученную мною модель"
      ],
      "metadata": {
        "id": "QD8EuJRTDdCd"
      },
      "execution_count": null,
      "outputs": []
    },
    {
      "cell_type": "markdown",
      "source": [
        "### Валидация результатов задания"
      ],
      "metadata": {
        "id": "3eoTAB1fSOuk"
      }
    },
    {
      "cell_type": "code",
      "source": [
        "from sklearn.metrics import accuracy_score\n",
        "def evaluate_task(model, test_dataloader, device=\"cuda:0\"):\n",
        "    model = model.to(device)\n",
        "    predicted_classes = torch.Tensor([]).to(device)\n",
        "    true_classes = torch.Tensor([]).to(device)\n",
        "\n",
        "    model.eval()\n",
        "    with torch.no_grad():\n",
        "        for images, labels in tqdm(test_dataloader):\n",
        "            images, labels = images.to(device), labels.to(device)\n",
        "\n",
        "            pred = model._forward(images)\n",
        "            pred_classes = torch.argmax(pred, dim=-1)\n",
        "\n",
        "            predicted_classes = torch.cat((predicted_classes, pred_classes), 0)\n",
        "            true_classes = torch.cat((true_classes, labels), 0)\n",
        "\n",
        "    return accuracy_score(predicted_classes.cpu().detach().numpy(), true_classes.cpu().detach().numpy())"
      ],
      "metadata": {
        "id": "4M_BAiMNl1rL"
      },
      "execution_count": null,
      "outputs": []
    },
    {
      "cell_type": "code",
      "source": [
        "accuracy = evaluate_task(model, val_dataloader)\n",
        "print('\\n',f'Точность на валидационной выборке {accuracy}', sep='')\n",
        "print(f\"Оценка за это задание составит {np.clip(10 * accuracy / 0.44, 0, 10):.2f} баллов\")"
      ],
      "metadata": {
        "id": "TsP57VG8KEfP",
        "colab": {
          "base_uri": "https://localhost:8080/"
        },
        "outputId": "9ef01bcf-47e7-48d8-9154-68bd1f3195b4"
      },
      "execution_count": null,
      "outputs": [
        {
          "output_type": "stream",
          "name": "stderr",
          "text": [
            "\n",
            "  0%|          | 0/40 [00:00<?, ?it/s]\u001b[A\n",
            "  5%|▌         | 2/40 [00:00<00:04,  9.09it/s]\u001b[A\n",
            "  8%|▊         | 3/40 [00:00<00:04,  8.78it/s]\u001b[A\n",
            " 10%|█         | 4/40 [00:00<00:04,  8.86it/s]\u001b[A\n",
            " 12%|█▎        | 5/40 [00:00<00:03,  8.84it/s]\u001b[A\n",
            " 15%|█▌        | 6/40 [00:00<00:03,  8.86it/s]\u001b[A\n",
            " 18%|█▊        | 7/40 [00:00<00:03,  8.93it/s]\u001b[A\n",
            " 20%|██        | 8/40 [00:00<00:03,  9.04it/s]\u001b[A\n",
            " 22%|██▎       | 9/40 [00:01<00:03,  8.81it/s]\u001b[A\n",
            " 25%|██▌       | 10/40 [00:01<00:03,  8.99it/s]\u001b[A\n",
            " 28%|██▊       | 11/40 [00:01<00:03,  8.98it/s]\u001b[A\n",
            " 30%|███       | 12/40 [00:01<00:03,  9.10it/s]\u001b[A\n",
            " 32%|███▎      | 13/40 [00:01<00:02,  9.16it/s]\u001b[A\n",
            " 35%|███▌      | 14/40 [00:01<00:02,  9.00it/s]\u001b[A\n",
            " 38%|███▊      | 15/40 [00:01<00:02,  9.00it/s]\u001b[A\n",
            " 40%|████      | 16/40 [00:01<00:02,  9.06it/s]\u001b[A\n",
            " 42%|████▎     | 17/40 [00:01<00:02,  8.80it/s]\u001b[A\n",
            " 45%|████▌     | 18/40 [00:02<00:02,  8.84it/s]\u001b[A\n",
            " 48%|████▊     | 19/40 [00:02<00:02,  8.63it/s]\u001b[A\n",
            " 50%|█████     | 20/40 [00:02<00:02,  8.82it/s]\u001b[A\n",
            " 52%|█████▎    | 21/40 [00:02<00:02,  8.79it/s]\u001b[A\n",
            " 55%|█████▌    | 22/40 [00:02<00:02,  8.94it/s]\u001b[A\n",
            " 57%|█████▊    | 23/40 [00:02<00:01,  8.91it/s]\u001b[A\n",
            " 60%|██████    | 24/40 [00:02<00:01,  9.05it/s]\u001b[A\n",
            " 62%|██████▎   | 25/40 [00:02<00:01,  9.04it/s]\u001b[A\n",
            " 65%|██████▌   | 26/40 [00:02<00:01,  9.19it/s]\u001b[A\n",
            " 68%|██████▊   | 27/40 [00:03<00:01,  8.71it/s]\u001b[A\n",
            " 70%|███████   | 28/40 [00:03<00:01,  8.82it/s]\u001b[A\n",
            " 72%|███████▎  | 29/40 [00:03<00:01,  8.79it/s]\u001b[A\n",
            " 75%|███████▌  | 30/40 [00:03<00:01,  8.87it/s]\u001b[A\n",
            " 78%|███████▊  | 31/40 [00:03<00:01,  8.89it/s]\u001b[A\n",
            " 80%|████████  | 32/40 [00:03<00:00,  8.95it/s]\u001b[A\n",
            " 82%|████████▎ | 33/40 [00:03<00:00,  8.93it/s]\u001b[A\n",
            " 85%|████████▌ | 34/40 [00:03<00:00,  9.06it/s]\u001b[A\n",
            " 88%|████████▊ | 35/40 [00:03<00:00,  8.69it/s]\u001b[A\n",
            " 90%|█████████ | 36/40 [00:04<00:00,  8.31it/s]\u001b[A\n",
            " 92%|█████████▎| 37/40 [00:04<00:00,  8.52it/s]\u001b[A\n",
            " 95%|█████████▌| 38/40 [00:04<00:00,  8.62it/s]\u001b[A\n",
            "100%|██████████| 40/40 [00:04<00:00,  8.94it/s]"
          ]
        },
        {
          "output_type": "stream",
          "name": "stdout",
          "text": [
            "\n",
            "Точность на валидационной выборке 0.4744\n",
            "Оценка за это задание составит 10.00 баллов\n"
          ]
        },
        {
          "output_type": "stream",
          "name": "stderr",
          "text": [
            "\n"
          ]
        }
      ]
    },
    {
      "cell_type": "markdown",
      "source": [
        "## Задание 2\n",
        "\n",
        "5 баллов\n",
        "Добейтесь accuracy на валидации не менее 0.84. В этом задании делать ресайз и использовать претрейн можно.\n",
        "\n",
        "Для того чтобы выбить скор (считается ниже) на 2.5/5 балла (то есть половину за задание) достаточно соблюдать пару простых жизненных правил:\n",
        "1. Аугментация (без нее сложно очень будет)\n",
        "2. Оптимайзеры можно (и нужно) использовать друг с другом. Однако когда что-то проверяете, то не меняйте несколько параметров сразу - собьете логику экспериментов\n",
        "3. Не используйте полносвязные модели или самые первые сверточные, используйте более современные архитектуры (что на лекциях встречались или можете пойти дальше).\n",
        "4. Попробуйте сначала посмотреть качество исходной модели без дообучения, сохраните как baseline. Отсюда поймете какие слои нужно дообучать.\n",
        "5. Посмотреть все ноутбуки прошедших семинаров и слепить из них что-то общее. Семинарских тетрадок хватит сверх"
      ],
      "metadata": {
        "id": "cZqSdlQQKukS"
      }
    },
    {
      "cell_type": "markdown",
      "source": [
        "### Модель (или просто импортируйте предобученную)"
      ],
      "metadata": {
        "id": "zDzXM5rNxNQp"
      }
    },
    {
      "cell_type": "code",
      "source": [
        "# YOU CAN DEFINE AUGMENTATIONS HERE дополнил предыдущие аугментации аугментациями из torchvision.models.convnext_base recipe, а именно поставил рекомендованный батч, кроп и ресайз\n",
        "train_transform = A.Compose([\n",
        "        A.Resize(height=255, width=255),\n",
        "        A.CenterCrop(height=224, width=224),\n",
        "        A.RGBShift(r_shift_limit=15, g_shift_limit=15, b_shift_limit=15, p=0.5),\n",
        "        A.RandomBrightnessContrast(p=0.5),\n",
        "        A.MultiplicativeNoise(multiplier=[0.5,2], per_channel=True, p=0.1),\n",
        "        A.HorizontalFlip(p=0.5),\n",
        "        A.Sharpen(p=0.5),\n",
        "        A.Normalize([0.485, 0.456, 0.406], [0.229, 0.224, 0.225]),\n",
        "        ToTensorV2()\n",
        "        ])\n",
        "val_transform = A.Compose([\n",
        "        A.Resize(height=255, width=255),\n",
        "        A.CenterCrop(height=224, width=224),\n",
        "        A.Normalize([0.485, 0.456, 0.406], [0.229, 0.224, 0.225]),\n",
        "        ToTensorV2(),\n",
        "        ])\n",
        "\n",
        "train_dataset = MyDataset(train_image_paths, transform=train_transform)\n",
        "val_dataset = MyDataset(val_image_paths, transform=val_transform)\n",
        "# REPLACE ./dataset/dataset WITH THE FOLDER WHERE YOU DOWNLOADED AND UNZIPPED THE DATASET\n",
        "\n",
        "train_dataloader =  torch.utils.data.DataLoader(train_dataset, batch_size=64, shuffle=True)\n",
        "val_dataloader = torch.utils.data.DataLoader(val_dataset, batch_size=64, shuffle=False)"
      ],
      "metadata": {
        "id": "hqusb96vNdYu"
      },
      "execution_count": null,
      "outputs": []
    },
    {
      "cell_type": "code",
      "source": [
        "torchvision.models.convnext_base(weights='DEFAULT') # Смотрю архитектуру выходного слоя"
      ],
      "metadata": {
        "id": "yyx4MwJhKQf8"
      },
      "execution_count": null,
      "outputs": []
    },
    {
      "cell_type": "code",
      "source": [
        "class YourNet(torch.nn.Module):\n",
        "    def __init__(self, dropout=0.1):\n",
        "        super(YourNet, self).__init__()\n",
        "\n",
        "        self.model = torchvision.models.convnext_base(weights='DEFAULT') # Это инициализирует лучшие известные веса для модели, аргумент pretrained=True устарел\n",
        "        self.model.classifier = nn.Identity() # Мы удаляем последний предобученный слой классификатора из модели\n",
        "        self.classifier = nn.Sequential(\n",
        "              nn.Flatten(start_dim=1, end_dim=-1),\n",
        "              nn.Linear(in_features=1024, out_features=200, bias=True)) # И создаем другой слой, который будет иметь другой выход\n",
        "\n",
        "        self.loss_func = torch.nn.CrossEntropyLoss()\n",
        "        self.targets = torch.Tensor()\n",
        "        self.preds = torch.Tensor()\n",
        "\n",
        "    def _forward(self, x):\n",
        "        # runs the Neural Network\n",
        "        # YOUR CODE HERE\n",
        "        with torch.no_grad(): # В форварде саму модель мы будем обучать без градиента\n",
        "          features = self.model(x)\n",
        "        preds = self.classifier(features) # И с градиентом только голову модели\n",
        "        return preds\n",
        "\n",
        "    def forward(self, images, target=None):\n",
        "        # images ~ (batch size, num channels, height, width)\n",
        "        # target ~ (batch size)\n",
        "        # output ~ (batch size, num classes)\n",
        "        output = self._forward(images)\n",
        "\n",
        "        # get accuracy score and save it to self.accuracy\n",
        "        if target is not None:\n",
        "            loss = self.loss_func(output, target)\n",
        "\n",
        "            self.targets = torch.cat((self.targets, target.cpu()), 0)\n",
        "            pred = torch.argmax(output, dim=-1)\n",
        "            self.preds = torch.cat((self.preds, pred.cpu()), 0)\n",
        "            self.accuracy = accuracy(self.preds.long(), self.targets.long())\n",
        "\n",
        "        return loss\n",
        "    def get_accuracy(self, reset=False):\n",
        "        # YOUR CODE HERE\n",
        "        if reset:\n",
        "            self.targets = torch.Tensor()\n",
        "            self.preds = torch.Tensor()\n",
        "        return self.accuracy"
      ],
      "metadata": {
        "id": "sDr9l76AxH_9"
      },
      "execution_count": null,
      "outputs": []
    },
    {
      "cell_type": "markdown",
      "source": [
        "### Тренировочный класс lightning"
      ],
      "metadata": {
        "id": "Flwqk0YjxPLE"
      }
    },
    {
      "cell_type": "code",
      "source": [
        "class YourModule(pl.LightningModule):\n",
        "    def __init__(self, model): #learning rate вроде как уже не нужен, так как он будет задаваться гиперпараметрами импортируемой модели\n",
        "        super().__init__()\n",
        "        # YOUR CODE HERE\n",
        "        self.model = model\n",
        "        self.optimizer = torch.optim.Adam(self.model.classifier.parameters(), weight_decay=1e-4)\n",
        "\n",
        "        self.save_hyperparameters()\n",
        "\n",
        "\n",
        "    def forward(self, x) -> torch.Tensor:\n",
        "\n",
        "        preds = self.model(x)\n",
        "\n",
        "        return preds\n",
        "\n",
        "    def configure_optimizers(self):\n",
        "\n",
        "        return self.optimizer\n",
        "\n",
        "\n",
        "    def training_step(self, train_batch, batch_idx) -> torch.Tensor:\n",
        "        images, target = train_batch\n",
        "        loss = self.model(images, target)\n",
        "        self.log(\"train_loss\", loss, prog_bar=True)\n",
        "\n",
        "        return loss\n",
        "\n",
        "    def validation_step(self, val_batch, batch_idx) -> None:\n",
        "        images, target = val_batch\n",
        "        loss = self.model(images, target)\n",
        "        self.log(\"val_loss\", loss, prog_bar=True)"
      ],
      "metadata": {
        "id": "UnKHluO6xID4",
        "colab": {
          "base_uri": "https://localhost:8080/",
          "height": 249
        },
        "outputId": "d3ab1689-fb7c-4ed7-d010-bf2121958e7d"
      },
      "execution_count": null,
      "outputs": [
        {
          "output_type": "error",
          "ename": "NameError",
          "evalue": "ignored",
          "traceback": [
            "\u001b[0;31m---------------------------------------------------------------------------\u001b[0m",
            "\u001b[0;31mNameError\u001b[0m                                 Traceback (most recent call last)",
            "\u001b[0;32m<ipython-input-1-1535a137eb7f>\u001b[0m in \u001b[0;36m<module>\u001b[0;34m\u001b[0m\n\u001b[0;32m----> 1\u001b[0;31m \u001b[0;32mclass\u001b[0m \u001b[0mYourModule\u001b[0m\u001b[0;34m(\u001b[0m\u001b[0mpl\u001b[0m\u001b[0;34m.\u001b[0m\u001b[0mLightningModule\u001b[0m\u001b[0;34m)\u001b[0m\u001b[0;34m:\u001b[0m\u001b[0;34m\u001b[0m\u001b[0;34m\u001b[0m\u001b[0m\n\u001b[0m\u001b[1;32m      2\u001b[0m     \u001b[0;32mdef\u001b[0m \u001b[0m__init__\u001b[0m\u001b[0;34m(\u001b[0m\u001b[0mself\u001b[0m\u001b[0;34m,\u001b[0m \u001b[0mmodel\u001b[0m\u001b[0;34m)\u001b[0m\u001b[0;34m:\u001b[0m \u001b[0;31m#learning rate вроде как уже не нужен, так как он будет задаваться гиперпараметрами импортируемой модели\u001b[0m\u001b[0;34m\u001b[0m\u001b[0;34m\u001b[0m\u001b[0m\n\u001b[1;32m      3\u001b[0m         \u001b[0msuper\u001b[0m\u001b[0;34m(\u001b[0m\u001b[0;34m)\u001b[0m\u001b[0;34m.\u001b[0m\u001b[0m__init__\u001b[0m\u001b[0;34m(\u001b[0m\u001b[0;34m)\u001b[0m\u001b[0;34m\u001b[0m\u001b[0;34m\u001b[0m\u001b[0m\n\u001b[1;32m      4\u001b[0m         \u001b[0;31m# YOUR CODE HERE\u001b[0m\u001b[0;34m\u001b[0m\u001b[0;34m\u001b[0m\u001b[0;34m\u001b[0m\u001b[0m\n\u001b[1;32m      5\u001b[0m         \u001b[0mself\u001b[0m\u001b[0;34m.\u001b[0m\u001b[0mmodel\u001b[0m \u001b[0;34m=\u001b[0m \u001b[0mmodel\u001b[0m\u001b[0;34m\u001b[0m\u001b[0;34m\u001b[0m\u001b[0m\n",
            "\u001b[0;31mNameError\u001b[0m: name 'pl' is not defined"
          ]
        }
      ]
    },
    {
      "cell_type": "code",
      "source": [
        "wandb_logger = WandbLogger(log_model='all') # какие возможности дает с pytorch_lightning https://docs.wandb.ai/guides/integrations/lightning\n",
        "device = torch.device(\"cuda\") if torch.cuda.is_available() else torch.device(\"cpu\")\n",
        "\n",
        "model = YourNet().to(device)\n",
        "module = YourModule(model)"
      ],
      "metadata": {
        "id": "lQAjkvkVyhEg"
      },
      "execution_count": null,
      "outputs": []
    },
    {
      "cell_type": "code",
      "source": [
        "seed_everything(123456)\n",
        "trainer = pl.Trainer(logger=wandb_logger,\n",
        "                     accelerator='gpu',\n",
        "                     max_epochs=2,\n",
        "                     log_every_n_steps=200)  # YOUR CODE HERE\n",
        "trainer.fit(module, train_dataloader, val_dataloader)  # YOUR CODE HERE"
      ],
      "metadata": {
        "id": "T4wJgB1YyhG0",
        "colab": {
          "base_uri": "https://localhost:8080/",
          "height": 359,
          "referenced_widgets": [
            "09292952e7f74ba09f2094780416ac64",
            "1197aaa3fb5545129e7278727c5b85ce",
            "56eba6dab4744ba3a460ad22e1123822",
            "5228acbb2a6d486ab571163b3ad04d05",
            "15b6ca983a7f483492724c9c105af3ae",
            "36c44fc13a194405a62fba86b6fae37d",
            "cc9cf85d94a241719e9ee23c87a4cd99",
            "af46857f58b64eb48e2dd6608eead753",
            "e513da87514b44ad94ec5455d9cd39c7",
            "56f8208de314402388dcb4f6582625fa",
            "849189dc244249a8b52b745832dff9d4",
            "7e022f3c5d494278b68170887509eb0e",
            "25e4cdf53249439cadcb54a938733bd0",
            "527e5165464a438a9872d7d6fb84610b",
            "1b4c9d4dc2fb4fb4bf437f8d9246d9b2",
            "44b0d14dd9d64b7e98c4c33d3cbf781f",
            "cc994e3fd7124f70ae3dadd94c8b9552",
            "2838cd0653c14b99afdda1ee9bcb9995",
            "79d6b80c915d47a780514b3bdaadf44d",
            "f6f2d68f12f947579bbac609528dcd8e",
            "49eddc061d164bc8aa9a7b2f16f8164c",
            "9eabf5674410407d92b060c7c9a098e9",
            "11a1ca4a0c734fdca53792524f441938",
            "2911dc0a5b184253bf4dc102d43d07ad",
            "57cf1a88463b4a58b8d02df14f359aba",
            "c096a45b32e5424bb0d7fe3ee82b3a9b",
            "d28a4d7bbddd47f4a3f076c5aa4fef51",
            "d85ed195434f4d41b73fa1f9a6356390",
            "9504051a71994c9e8cef1d7fa19dbba1",
            "f0f298b421af456fa79a0c688e8e9845",
            "aa648876fbfd4448b590c85a008f460b",
            "8440cefdf903468d8d7e3284ff43044c",
            "9d69e0e1efd7475cb3bb284eac4a524c",
            "0c133d43f8d44634ae48e828e03b49ab",
            "8e1d8c4f09624c019f6e0d5bb7a53469",
            "bd2a113acbac4948ae91d40ea33284e1",
            "18d4233fa1974e829e190ead800397ce",
            "5ddde26687074925a2743b661f1aedcc",
            "4f6e7ed2bf7948c59baecf82838aac33",
            "cefbf483300c4c00b0be84acc47fe6c6",
            "653a25ee0bf1420886819a5c392e71e4",
            "7129e93aa833475ea9397c625c134d16",
            "22ffee03d4eb4a6c88d45d5d2005e3af",
            "24ee665661b54cea8b14ca6bb850bc7a"
          ]
        },
        "outputId": "9409e8e5-2758-49e7-e7f4-1d365f8a2033"
      },
      "execution_count": null,
      "outputs": [
        {
          "output_type": "stream",
          "name": "stderr",
          "text": [
            "INFO:pytorch_lightning.utilities.rank_zero:GPU available: True (cuda), used: True\n",
            "INFO:pytorch_lightning.utilities.rank_zero:TPU available: False, using: 0 TPU cores\n",
            "INFO:pytorch_lightning.utilities.rank_zero:IPU available: False, using: 0 IPUs\n",
            "INFO:pytorch_lightning.utilities.rank_zero:HPU available: False, using: 0 HPUs\n",
            "INFO:pytorch_lightning.accelerators.cuda:LOCAL_RANK: 0 - CUDA_VISIBLE_DEVICES: [0]\n",
            "INFO:pytorch_lightning.callbacks.model_summary:\n",
            "  | Name  | Type    | Params\n",
            "----------------------------------\n",
            "0 | model | YourNet | 87.8 M\n",
            "----------------------------------\n",
            "87.8 M    Trainable params\n",
            "0         Non-trainable params\n",
            "87.8 M    Total params\n",
            "351.078   Total estimated model params size (MB)\n"
          ]
        },
        {
          "output_type": "display_data",
          "data": {
            "text/plain": [
              "Sanity Checking: 0it [00:00, ?it/s]"
            ],
            "application/vnd.jupyter.widget-view+json": {
              "version_major": 2,
              "version_minor": 0,
              "model_id": "09292952e7f74ba09f2094780416ac64"
            }
          },
          "metadata": {}
        },
        {
          "output_type": "display_data",
          "data": {
            "text/plain": [
              "Training: 0it [00:00, ?it/s]"
            ],
            "application/vnd.jupyter.widget-view+json": {
              "version_major": 2,
              "version_minor": 0,
              "model_id": "7e022f3c5d494278b68170887509eb0e"
            }
          },
          "metadata": {}
        },
        {
          "output_type": "display_data",
          "data": {
            "text/plain": [
              "Validation: 0it [00:00, ?it/s]"
            ],
            "application/vnd.jupyter.widget-view+json": {
              "version_major": 2,
              "version_minor": 0,
              "model_id": "11a1ca4a0c734fdca53792524f441938"
            }
          },
          "metadata": {}
        },
        {
          "output_type": "display_data",
          "data": {
            "text/plain": [
              "Validation: 0it [00:00, ?it/s]"
            ],
            "application/vnd.jupyter.widget-view+json": {
              "version_major": 2,
              "version_minor": 0,
              "model_id": "0c133d43f8d44634ae48e828e03b49ab"
            }
          },
          "metadata": {}
        },
        {
          "output_type": "stream",
          "name": "stderr",
          "text": [
            "/usr/local/lib/python3.7/dist-packages/pytorch_lightning/trainer/call.py:48: UserWarning: Detected KeyboardInterrupt, attempting graceful shutdown...\n",
            "  rank_zero_warn(\"Detected KeyboardInterrupt, attempting graceful shutdown...\")\n"
          ]
        }
      ]
    },
    {
      "cell_type": "code",
      "source": [
        "torch.save(model.state_dict(), '/content/savemodel/model2.pth') #Сохранил модель"
      ],
      "metadata": {
        "id": "x-wATd3ePOSk"
      },
      "execution_count": null,
      "outputs": []
    },
    {
      "cell_type": "code",
      "source": [
        "model = YourNet().to(device) # Переобозначаю модель\n",
        "model.load_state_dict(torch.load('/content/savemodel/model2.pth')) # И загружаю ранее предобученную мною модель"
      ],
      "metadata": {
        "id": "wTL-J_lKPcQt",
        "colab": {
          "base_uri": "https://localhost:8080/"
        },
        "outputId": "2be667b1-f1fc-4be4-de8c-3f9e71fa78c3"
      },
      "execution_count": null,
      "outputs": [
        {
          "output_type": "execute_result",
          "data": {
            "text/plain": [
              "<All keys matched successfully>"
            ]
          },
          "metadata": {},
          "execution_count": 25
        }
      ]
    },
    {
      "cell_type": "markdown",
      "source": [
        "### Валидация результатов задания"
      ],
      "metadata": {
        "id": "u5D2bwOKSHVp"
      }
    },
    {
      "cell_type": "code",
      "source": [
        "accuracy = evaluate_task(model, val_dataloader)\n",
        "print(f\"Оценка за это задание составит {np.clip(10 * (accuracy - 0.5) / 0.34, 0, 10):.2f} баллов\")"
      ],
      "metadata": {
        "id": "PEdwJE5uOrIM",
        "colab": {
          "base_uri": "https://localhost:8080/"
        },
        "outputId": "fa9caf18-73b2-48df-de81-9cbf30d7d443"
      },
      "execution_count": null,
      "outputs": [
        {
          "output_type": "stream",
          "name": "stderr",
          "text": [
            "\n",
            "  0%|          | 0/157 [00:00<?, ?it/s]\u001b[A\n",
            "  1%|          | 1/157 [00:00<02:21,  1.10it/s]\u001b[A\n",
            "  1%|▏         | 2/157 [00:02<02:49,  1.10s/it]\u001b[A\n",
            "  2%|▏         | 3/157 [00:03<02:58,  1.16s/it]\u001b[A\n",
            "  3%|▎         | 4/157 [00:04<03:01,  1.19s/it]\u001b[A\n",
            "  3%|▎         | 5/157 [00:05<03:03,  1.21s/it]\u001b[A\n",
            "  4%|▍         | 6/157 [00:07<03:04,  1.22s/it]\u001b[A\n",
            "  4%|▍         | 7/157 [00:08<03:04,  1.23s/it]\u001b[A\n",
            "  5%|▌         | 8/157 [00:09<03:04,  1.24s/it]\u001b[A\n",
            "  6%|▌         | 9/157 [00:10<03:04,  1.25s/it]\u001b[A\n",
            "  6%|▋         | 10/157 [00:12<03:03,  1.25s/it]\u001b[A\n",
            "  7%|▋         | 11/157 [00:13<03:02,  1.25s/it]\u001b[A\n",
            "  8%|▊         | 12/157 [00:14<03:02,  1.26s/it]\u001b[A\n",
            "  8%|▊         | 13/157 [00:15<03:02,  1.26s/it]\u001b[A\n",
            "  9%|▉         | 14/157 [00:17<03:01,  1.27s/it]\u001b[A\n",
            " 10%|▉         | 15/157 [00:18<03:00,  1.27s/it]\u001b[A\n",
            " 10%|█         | 16/157 [00:19<03:00,  1.28s/it]\u001b[A\n",
            " 11%|█         | 17/157 [00:21<02:59,  1.28s/it]\u001b[A\n",
            " 11%|█▏        | 18/157 [00:22<02:58,  1.29s/it]\u001b[A\n",
            " 12%|█▏        | 19/157 [00:23<02:58,  1.29s/it]\u001b[A\n",
            " 13%|█▎        | 20/157 [00:24<02:57,  1.29s/it]\u001b[A\n",
            " 13%|█▎        | 21/157 [00:26<02:56,  1.30s/it]\u001b[A\n",
            " 14%|█▍        | 22/157 [00:27<02:55,  1.30s/it]\u001b[A\n",
            " 15%|█▍        | 23/157 [00:28<02:55,  1.31s/it]\u001b[A\n",
            " 15%|█▌        | 24/157 [00:30<02:54,  1.31s/it]\u001b[A\n",
            " 16%|█▌        | 25/157 [00:31<02:52,  1.31s/it]\u001b[A\n",
            " 17%|█▋        | 26/157 [00:32<02:51,  1.31s/it]\u001b[A\n",
            " 17%|█▋        | 27/157 [00:34<02:50,  1.31s/it]\u001b[A\n",
            " 18%|█▊        | 28/157 [00:35<02:48,  1.31s/it]\u001b[A\n",
            " 18%|█▊        | 29/157 [00:36<02:47,  1.31s/it]\u001b[A\n",
            " 19%|█▉        | 30/157 [00:38<02:45,  1.31s/it]\u001b[A\n",
            " 20%|█▉        | 31/157 [00:39<02:43,  1.30s/it]\u001b[A\n",
            " 20%|██        | 32/157 [00:40<02:41,  1.29s/it]\u001b[A\n",
            " 21%|██        | 33/157 [00:41<02:39,  1.29s/it]\u001b[A\n",
            " 22%|██▏       | 34/157 [00:43<02:38,  1.29s/it]\u001b[A\n",
            " 22%|██▏       | 35/157 [00:44<02:36,  1.28s/it]\u001b[A\n",
            " 23%|██▎       | 36/157 [00:45<02:34,  1.28s/it]\u001b[A\n",
            " 24%|██▎       | 37/157 [00:47<02:33,  1.28s/it]\u001b[A\n",
            " 24%|██▍       | 38/157 [00:48<02:31,  1.28s/it]\u001b[A\n",
            " 25%|██▍       | 39/157 [00:49<02:30,  1.27s/it]\u001b[A\n",
            " 25%|██▌       | 40/157 [00:50<02:28,  1.27s/it]\u001b[A\n",
            " 26%|██▌       | 41/157 [00:52<02:27,  1.27s/it]\u001b[A\n",
            " 27%|██▋       | 42/157 [00:53<02:25,  1.27s/it]\u001b[A\n",
            " 27%|██▋       | 43/157 [00:54<02:23,  1.26s/it]\u001b[A\n",
            " 28%|██▊       | 44/157 [00:55<02:22,  1.26s/it]\u001b[A\n",
            " 29%|██▊       | 45/157 [00:57<02:21,  1.26s/it]\u001b[A\n",
            " 29%|██▉       | 46/157 [00:58<02:19,  1.26s/it]\u001b[A\n",
            " 30%|██▉       | 47/157 [00:59<02:18,  1.26s/it]\u001b[A\n",
            " 31%|███       | 48/157 [01:00<02:16,  1.25s/it]\u001b[A\n",
            " 31%|███       | 49/157 [01:02<02:15,  1.25s/it]\u001b[A\n",
            " 32%|███▏      | 50/157 [01:03<02:13,  1.25s/it]\u001b[A\n",
            " 32%|███▏      | 51/157 [01:04<02:12,  1.25s/it]\u001b[A\n",
            " 33%|███▎      | 52/157 [01:05<02:11,  1.25s/it]\u001b[A\n",
            " 34%|███▍      | 53/157 [01:07<02:09,  1.25s/it]\u001b[A\n",
            " 34%|███▍      | 54/157 [01:08<02:08,  1.25s/it]\u001b[A\n",
            " 35%|███▌      | 55/157 [01:09<02:07,  1.25s/it]\u001b[A\n",
            " 36%|███▌      | 56/157 [01:10<02:05,  1.25s/it]\u001b[A\n",
            " 36%|███▋      | 57/157 [01:12<02:04,  1.25s/it]\u001b[A\n",
            " 37%|███▋      | 58/157 [01:13<02:03,  1.25s/it]\u001b[A\n",
            " 38%|███▊      | 59/157 [01:14<02:02,  1.25s/it]\u001b[A\n",
            " 38%|███▊      | 60/157 [01:15<02:00,  1.25s/it]\u001b[A\n",
            " 39%|███▉      | 61/157 [01:17<01:59,  1.25s/it]\u001b[A\n",
            " 39%|███▉      | 62/157 [01:18<01:58,  1.25s/it]\u001b[A\n",
            " 40%|████      | 63/157 [01:19<01:57,  1.25s/it]\u001b[A\n",
            " 41%|████      | 64/157 [01:20<01:55,  1.25s/it]\u001b[A\n",
            " 41%|████▏     | 65/157 [01:22<01:54,  1.25s/it]\u001b[A\n",
            " 42%|████▏     | 66/157 [01:23<01:53,  1.25s/it]\u001b[A\n",
            " 43%|████▎     | 67/157 [01:24<01:52,  1.25s/it]\u001b[A\n",
            " 43%|████▎     | 68/157 [01:25<01:51,  1.25s/it]\u001b[A\n",
            " 44%|████▍     | 69/157 [01:27<01:50,  1.25s/it]\u001b[A\n",
            " 45%|████▍     | 70/157 [01:28<01:49,  1.25s/it]\u001b[A\n",
            " 45%|████▌     | 71/157 [01:29<01:47,  1.25s/it]\u001b[A\n",
            " 46%|████▌     | 72/157 [01:30<01:46,  1.26s/it]\u001b[A\n",
            " 46%|████▋     | 73/157 [01:32<01:45,  1.26s/it]\u001b[A\n",
            " 47%|████▋     | 74/157 [01:33<01:44,  1.26s/it]\u001b[A\n",
            " 48%|████▊     | 75/157 [01:34<01:43,  1.26s/it]\u001b[A\n",
            " 48%|████▊     | 76/157 [01:35<01:42,  1.26s/it]\u001b[A\n",
            " 49%|████▉     | 77/157 [01:37<01:40,  1.26s/it]\u001b[A\n",
            " 50%|████▉     | 78/157 [01:38<01:39,  1.26s/it]\u001b[A\n",
            " 50%|█████     | 79/157 [01:39<01:38,  1.26s/it]\u001b[A\n",
            " 51%|█████     | 80/157 [01:40<01:37,  1.26s/it]\u001b[A\n",
            " 52%|█████▏    | 81/157 [01:42<01:35,  1.26s/it]\u001b[A\n",
            " 52%|█████▏    | 82/157 [01:43<01:34,  1.26s/it]\u001b[A\n",
            " 53%|█████▎    | 83/157 [01:44<01:33,  1.26s/it]\u001b[A\n",
            " 54%|█████▎    | 84/157 [01:45<01:32,  1.26s/it]\u001b[A\n",
            " 54%|█████▍    | 85/157 [01:47<01:30,  1.26s/it]\u001b[A\n",
            " 55%|█████▍    | 86/157 [01:48<01:29,  1.27s/it]\u001b[A\n",
            " 55%|█████▌    | 87/157 [01:49<01:28,  1.27s/it]\u001b[A\n",
            " 56%|█████▌    | 88/157 [01:51<01:27,  1.27s/it]\u001b[A\n",
            " 57%|█████▋    | 89/157 [01:52<01:26,  1.27s/it]\u001b[A\n",
            " 57%|█████▋    | 90/157 [01:53<01:24,  1.27s/it]\u001b[A\n",
            " 58%|█████▊    | 91/157 [01:54<01:23,  1.27s/it]\u001b[A\n",
            " 59%|█████▊    | 92/157 [01:56<01:22,  1.27s/it]\u001b[A\n",
            " 59%|█████▉    | 93/157 [01:57<01:21,  1.27s/it]\u001b[A\n",
            " 60%|█████▉    | 94/157 [01:58<01:19,  1.27s/it]\u001b[A\n",
            " 61%|██████    | 95/157 [01:59<01:18,  1.27s/it]\u001b[A\n",
            " 61%|██████    | 96/157 [02:01<01:17,  1.27s/it]\u001b[A\n",
            " 62%|██████▏   | 97/157 [02:02<01:16,  1.27s/it]\u001b[A\n",
            " 62%|██████▏   | 98/157 [02:03<01:14,  1.27s/it]\u001b[A\n",
            " 63%|██████▎   | 99/157 [02:05<01:13,  1.27s/it]\u001b[A\n",
            " 64%|██████▎   | 100/157 [02:06<01:12,  1.27s/it]\u001b[A\n",
            " 64%|██████▍   | 101/157 [02:07<01:10,  1.27s/it]\u001b[A\n",
            " 65%|██████▍   | 102/157 [02:08<01:09,  1.27s/it]\u001b[A\n",
            " 66%|██████▌   | 103/157 [02:10<01:08,  1.26s/it]\u001b[A\n",
            " 66%|██████▌   | 104/157 [02:11<01:07,  1.27s/it]\u001b[A\n",
            " 67%|██████▋   | 105/157 [02:12<01:05,  1.26s/it]\u001b[A\n",
            " 68%|██████▊   | 106/157 [02:13<01:04,  1.26s/it]\u001b[A\n",
            " 68%|██████▊   | 107/157 [02:15<01:03,  1.26s/it]\u001b[A\n",
            " 69%|██████▉   | 108/157 [02:16<01:01,  1.26s/it]\u001b[A\n",
            " 69%|██████▉   | 109/157 [02:17<01:00,  1.26s/it]\u001b[A\n",
            " 70%|███████   | 110/157 [02:18<00:59,  1.26s/it]\u001b[A\n",
            " 71%|███████   | 111/157 [02:20<00:58,  1.26s/it]\u001b[A\n",
            " 71%|███████▏  | 112/157 [02:21<00:56,  1.26s/it]\u001b[A\n",
            " 72%|███████▏  | 113/157 [02:22<00:55,  1.26s/it]\u001b[A\n",
            " 73%|███████▎  | 114/157 [02:23<00:54,  1.26s/it]\u001b[A\n",
            " 73%|███████▎  | 115/157 [02:25<00:52,  1.26s/it]\u001b[A\n",
            " 74%|███████▍  | 116/157 [02:26<00:51,  1.26s/it]\u001b[A\n",
            " 75%|███████▍  | 117/157 [02:27<00:50,  1.26s/it]\u001b[A\n",
            " 75%|███████▌  | 118/157 [02:28<00:49,  1.26s/it]\u001b[A\n",
            " 76%|███████▌  | 119/157 [02:30<00:47,  1.26s/it]\u001b[A\n",
            " 76%|███████▋  | 120/157 [02:31<00:46,  1.26s/it]\u001b[A\n",
            " 77%|███████▋  | 121/157 [02:32<00:45,  1.26s/it]\u001b[A\n",
            " 78%|███████▊  | 122/157 [02:33<00:43,  1.26s/it]\u001b[A\n",
            " 78%|███████▊  | 123/157 [02:35<00:42,  1.26s/it]\u001b[A\n",
            " 79%|███████▉  | 124/157 [02:36<00:41,  1.26s/it]\u001b[A\n",
            " 80%|███████▉  | 125/157 [02:37<00:40,  1.26s/it]\u001b[A\n",
            " 80%|████████  | 126/157 [02:39<00:38,  1.26s/it]\u001b[A\n",
            " 81%|████████  | 127/157 [02:40<00:37,  1.26s/it]\u001b[A\n",
            " 82%|████████▏ | 128/157 [02:41<00:36,  1.26s/it]\u001b[A\n",
            " 82%|████████▏ | 129/157 [02:42<00:35,  1.26s/it]\u001b[A\n",
            " 83%|████████▎ | 130/157 [02:44<00:33,  1.26s/it]\u001b[A\n",
            " 83%|████████▎ | 131/157 [02:45<00:32,  1.26s/it]\u001b[A\n",
            " 84%|████████▍ | 132/157 [02:46<00:31,  1.26s/it]\u001b[A\n",
            " 85%|████████▍ | 133/157 [02:47<00:30,  1.26s/it]\u001b[A\n",
            " 85%|████████▌ | 134/157 [02:49<00:28,  1.26s/it]\u001b[A\n",
            " 86%|████████▌ | 135/157 [02:50<00:27,  1.26s/it]\u001b[A\n",
            " 87%|████████▋ | 136/157 [02:51<00:26,  1.26s/it]\u001b[A\n",
            " 87%|████████▋ | 137/157 [02:52<00:25,  1.26s/it]\u001b[A\n",
            " 88%|████████▊ | 138/157 [02:54<00:23,  1.26s/it]\u001b[A\n",
            " 89%|████████▊ | 139/157 [02:55<00:22,  1.26s/it]\u001b[A\n",
            " 89%|████████▉ | 140/157 [02:56<00:21,  1.26s/it]\u001b[A\n",
            " 90%|████████▉ | 141/157 [02:57<00:20,  1.26s/it]\u001b[A\n",
            " 90%|█████████ | 142/157 [02:59<00:18,  1.26s/it]\u001b[A\n",
            " 91%|█████████ | 143/157 [03:00<00:17,  1.26s/it]\u001b[A\n",
            " 92%|█████████▏| 144/157 [03:01<00:16,  1.26s/it]\u001b[A\n",
            " 92%|█████████▏| 145/157 [03:02<00:15,  1.26s/it]\u001b[A\n",
            " 93%|█████████▎| 146/157 [03:04<00:13,  1.26s/it]\u001b[A\n",
            " 94%|█████████▎| 147/157 [03:05<00:12,  1.26s/it]\u001b[A\n",
            " 94%|█████████▍| 148/157 [03:06<00:11,  1.26s/it]\u001b[A\n",
            " 95%|█████████▍| 149/157 [03:07<00:10,  1.26s/it]\u001b[A\n",
            " 96%|█████████▌| 150/157 [03:09<00:08,  1.26s/it]\u001b[A\n",
            " 96%|█████████▌| 151/157 [03:10<00:07,  1.26s/it]\u001b[A\n",
            " 97%|█████████▋| 152/157 [03:11<00:06,  1.26s/it]\u001b[A\n",
            " 97%|█████████▋| 153/157 [03:12<00:05,  1.26s/it]\u001b[A\n",
            " 98%|█████████▊| 154/157 [03:14<00:03,  1.26s/it]\u001b[A\n",
            " 99%|█████████▊| 155/157 [03:15<00:02,  1.26s/it]\u001b[A\n",
            " 99%|█████████▉| 156/157 [03:16<00:01,  1.26s/it]\u001b[A\n",
            "100%|██████████| 157/157 [03:17<00:00,  1.26s/it]\n"
          ]
        },
        {
          "output_type": "stream",
          "name": "stdout",
          "text": [
            "Оценка за это задание составит 9.72 баллов\n"
          ]
        }
      ]
    },
    {
      "cell_type": "markdown",
      "metadata": {
        "cell_id": 15,
        "id": "pT8vfPSolRVb"
      },
      "source": [
        "# Отчёт об экспериментах\n",
        "\n",
        "текст писать тут (или ссылочку на wandb/любой трекер экспреиментов) для каждого задания, то есть не обязательно именно тут рисовать графики, если вы используете готовые трекеры/мониторинги ваших моделей."
      ]
    },
    {
      "cell_type": "markdown",
      "source": [
        "***Отчет об экспериментах***\n",
        "\n",
        "* Задание№1: Сначала пытался написать свою модель, но ей получилось выбить только оценку 7 за 9 часов обучения. После этого я полностью перешел на тестирование готовых непредобученных моделей.\n",
        " 1. Самый большой импакт внесло **понижение батча**.\n",
        " Свою модель я тестировал на батчсайзе 2048, как оказалось в дальнейшем, это чуть ли не худший размер батча для данного задания. На этом же батче я тестировал такие модели как: ShuffleNetV2, MobileNet, MobileNetV2, ResNet18, SqueezeNet, EfficientNetb0, EfficientNetb3, ResNet34. Все эти модели на данном батче были значительно хуже моей самописной, кроме Resnet 18, она был лучше, на ней я смог добить до оценки 7.5 за задание. Потом я прочитал, что на таком батче как у меня модели не тестируют, золотая классика это батчсайз 256 размера и меньше. Я попробал и действительно стало ГОРАЗДО ЛУЧШЕ, ResNet18 дошел до оценки 9.13 за задание, но реальным прорывом стал DenseNet121. Он показывал себя значительно лучше на всех стадиях обучения, ошибка и трейне и на вале падала куда быстрее чем у резнета. Собственно говоря на нем и получилось добиться полученной точности и оценки. К тестированию предыдущих моделей на меньшем батче я не возвращался, так как жалко было времени.\n",
        " 2. **Аугментации** я просто взял из предоставленной в дз документации. Это также значительно влияло на обучение. В целом, что я заметил в ходе работы, чем меньше агументаций я использовал, тем лучше становился результат. Самые значимые аугментации - простые повороты, они +- ощутимо дали прирост в точности, так как модель меньше переобучалась. Обучение без аугментаций вообще дает ужасный результат. Без аугментаций лосс на трейне падает невероятно быстро, но лосс на валидации только растет. Также пробовал оставлять только ротационные аугментации. В самом начале данный эксперимент показал результаты лучшие чем при том количестве аугментаций, которое у меня есть сейчас, но с ростом количества эпох показатели начинают сравниваться, а потом и вовсе становятся хуже, так что тот набор аугментаций, который я выделил, является наиболее опитмальными.\n",
        " 3. **Задавать lr самостоятельно** оказывается лучше чем пользоваться **auto_lr_find** только в краткосрочной перспективе, с ростом эпох у меня не получилось получить качество лучше с собственным lr, чем с auto_lr\n",
        "\n",
        "* Задание№2: Наученный горьким опытом первого задания, второе не составило никаких трудностей. Я уже отлично ориентировался в моделях на тот момент, перешерстил тонны разных документов и знал какую модель для этого задания я хочу использовать и какие аугментации мне нужно применить. Все недостающие аугментации я взял из recipe, которое прилагается к каждой модели на сайте pytorch-a, там же нашел рекомендованный батчсайз и аугментации и их параметры. На базе 5-го семинара не составило труда переписать класс модели и модуля, загнать в тренировочный цикл и получить отличный результат. Модель выбирал по топ accuracy@1 на imagenet, также информация предоставлена на сайте pytorch и по числу параметров, чтобы их было поменьше. Уже с первой эпохи аккураси равен 0.82, что эквивалентно оценке 9.7, с увеличением эпох качество растет, но очень медленно.\n",
        "\n"
      ],
      "metadata": {
        "id": "axlKWF_zSQzW"
      }
    },
    {
      "cell_type": "code",
      "source": [],
      "metadata": {
        "id": "tAq28IgWTx4V"
      },
      "execution_count": null,
      "outputs": []
    }
  ]
}